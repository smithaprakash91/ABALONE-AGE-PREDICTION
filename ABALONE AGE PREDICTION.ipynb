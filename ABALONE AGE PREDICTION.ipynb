{
 "cells": [
  {
   "cell_type": "markdown",
   "metadata": {},
   "source": [
    " <center><img src=\"https://github.com/insaid2018/Term-1/blob/master/Images/INSAID_Full%20Logo.png?raw=true\" width=\"240\" height=\"120\" /></centre>"
   ]
  },
  {
   "cell_type": "markdown",
   "metadata": {},
   "source": [
    "##### Predicting the age of abalone from physical measurements. The age of abalone is determined by cutting the shell through the cone, staining it, and counting the number of rings through a microscope -- a boring and time-consuming task. Other measurements, which are easier to obtain, are used to predict the age. Further information, such as weather patterns and location (hence food availability) may be required to solve the problem. "
   ]
  },
  {
   "cell_type": "markdown",
   "metadata": {},
   "source": [
    "**Current Scenario**\n",
    "\n",
    "The age of abalone is determined by cutting the shell through the cone, staining it, and counting the number of rings through a microscope.\n",
    "\n",
    "**By adding 1.5 to the number of rings, we get the abalone’s age in years.**"
   ]
  },
  {
   "cell_type": "markdown",
   "metadata": {},
   "source": [
    "### Project Deliverables\n",
    "\n",
    "   - Deliverable: Predict the number of rings for each abalone.\n",
    "   - Machine Learning Task: Regression\n",
    "   - Target Variable: Rings\n",
    "**Evaluation Metric**\n",
    "    - The model evaluation will be based on the RMSE score."
   ]
  },
  {
   "cell_type": "markdown",
   "metadata": {},
   "source": [
    "### ABALONE AGE PREDICTION"
   ]
  },
  {
   "cell_type": "markdown",
   "metadata": {},
   "source": [
    "#### Table of contents"
   ]
  },
  {
   "cell_type": "markdown",
   "metadata": {},
   "source": [
    "### Dataset description"
   ]
  },
  {
   "cell_type": "markdown",
   "metadata": {},
   "source": [
    "|Column Name||Description|\n",
    "|-----------||-----------|\n",
    "|**ID**||Unique Id of the sample|\n",
    "|**Sex**||The sex of the abalone (M, F, and I (infant))|\n",
    "|**Length**||Longest shell measurement (mm)|\n",
    "|**Diameter**||Diameter of abalone perpendicular to length (mm)|\n",
    "|**Height**||Height of abalone with meat in the shell (mm)|\n",
    "|**Whole_weight**||Weight of the whole abalone (grams)|\n",
    "|**Shucked_weight**||Weight of the meat of abalone (grams)|\n",
    "|**Viscera_weight**||Gut weight (after bleeding) of the abalone (grams)|\n",
    "|**Shell_weight**||Weight of the abalone after being dried (grams)|\n",
    "|**Rings**||Number of Rings in the abalone|"
   ]
  },
  {
   "cell_type": "code",
   "execution_count": 1,
   "metadata": {
    "scrolled": true
   },
   "outputs": [
    {
     "name": "stdout",
     "output_type": "stream",
     "text": [
      "Requirement already up-to-date: pandas-profiling in c:\\users\\intel\\appdata\\roaming\\python\\python38\\site-packages (3.0.0)\n",
      "Requirement already satisfied, skipping upgrade: visions[type_image_path]==0.7.1 in c:\\users\\intel\\appdata\\roaming\\python\\python38\\site-packages (from pandas-profiling) (0.7.1)\n",
      "Requirement already satisfied, skipping upgrade: scipy>=1.4.1 in c:\\programdata\\anaconda3\\lib\\site-packages (from pandas-profiling) (1.5.0)\n",
      "Requirement already satisfied, skipping upgrade: matplotlib>=3.2.0 in c:\\programdata\\anaconda3\\lib\\site-packages (from pandas-profiling) (3.2.2)\n",
      "Requirement already satisfied, skipping upgrade: missingno>=0.4.2 in c:\\users\\intel\\appdata\\roaming\\python\\python38\\site-packages (from pandas-profiling) (0.5.0)\n",
      "Requirement already satisfied, skipping upgrade: PyYAML>=5.0.0 in c:\\programdata\\anaconda3\\lib\\site-packages (from pandas-profiling) (5.3.1)\n",
      "Requirement already satisfied, skipping upgrade: joblib in c:\\programdata\\anaconda3\\lib\\site-packages (from pandas-profiling) (0.16.0)\n",
      "Requirement already satisfied, skipping upgrade: seaborn>=0.10.1 in c:\\programdata\\anaconda3\\lib\\site-packages (from pandas-profiling) (0.10.1)\n",
      "Requirement already satisfied, skipping upgrade: jinja2>=2.11.1 in c:\\programdata\\anaconda3\\lib\\site-packages (from pandas-profiling) (2.11.2)\n",
      "Requirement already satisfied, skipping upgrade: phik>=0.11.1 in c:\\users\\intel\\appdata\\roaming\\python\\python38\\site-packages (from pandas-profiling) (0.12.0)\n",
      "Requirement already satisfied, skipping upgrade: htmlmin>=0.1.12 in c:\\users\\intel\\appdata\\roaming\\python\\python38\\site-packages (from pandas-profiling) (0.1.12)\n",
      "Requirement already satisfied, skipping upgrade: numpy>=1.16.0 in c:\\programdata\\anaconda3\\lib\\site-packages (from pandas-profiling) (1.18.5)\n",
      "Requirement already satisfied, skipping upgrade: requests>=2.24.0 in c:\\programdata\\anaconda3\\lib\\site-packages (from pandas-profiling) (2.24.0)\n",
      "Requirement already satisfied, skipping upgrade: pandas!=1.0.0,!=1.0.1,!=1.0.2,!=1.1.0,>=0.25.3 in c:\\programdata\\anaconda3\\lib\\site-packages (from pandas-profiling) (1.0.5)\n",
      "Requirement already satisfied, skipping upgrade: tqdm>=4.48.2 in c:\\users\\intel\\appdata\\roaming\\python\\python38\\site-packages (from pandas-profiling) (4.62.0)\n",
      "Requirement already satisfied, skipping upgrade: pydantic>=1.8.1 in c:\\users\\intel\\appdata\\roaming\\python\\python38\\site-packages (from pandas-profiling) (1.8.2)\n",
      "Requirement already satisfied, skipping upgrade: tangled-up-in-unicode==0.1.0 in c:\\users\\intel\\appdata\\roaming\\python\\python38\\site-packages (from pandas-profiling) (0.1.0)\n",
      "Requirement already satisfied, skipping upgrade: bottleneck in c:\\programdata\\anaconda3\\lib\\site-packages (from visions[type_image_path]==0.7.1->pandas-profiling) (1.3.2)\n",
      "Requirement already satisfied, skipping upgrade: attrs>=19.3.0 in c:\\programdata\\anaconda3\\lib\\site-packages (from visions[type_image_path]==0.7.1->pandas-profiling) (19.3.0)\n",
      "Requirement already satisfied, skipping upgrade: networkx>=2.4 in c:\\programdata\\anaconda3\\lib\\site-packages (from visions[type_image_path]==0.7.1->pandas-profiling) (2.4)\n",
      "Requirement already satisfied, skipping upgrade: multimethod==1.4 in c:\\users\\intel\\appdata\\roaming\\python\\python38\\site-packages (from visions[type_image_path]==0.7.1->pandas-profiling) (1.4)\n",
      "Requirement already satisfied, skipping upgrade: imagehash; extra == \"type_image_path\" in c:\\users\\intel\\appdata\\roaming\\python\\python38\\site-packages (from visions[type_image_path]==0.7.1->pandas-profiling) (4.2.1)\n",
      "Requirement already satisfied, skipping upgrade: Pillow; extra == \"type_image_path\" in c:\\programdata\\anaconda3\\lib\\site-packages (from visions[type_image_path]==0.7.1->pandas-profiling) (7.2.0)\n",
      "Requirement already satisfied, skipping upgrade: python-dateutil>=2.1 in c:\\programdata\\anaconda3\\lib\\site-packages (from matplotlib>=3.2.0->pandas-profiling) (2.8.1)\n",
      "Requirement already satisfied, skipping upgrade: cycler>=0.10 in c:\\programdata\\anaconda3\\lib\\site-packages (from matplotlib>=3.2.0->pandas-profiling) (0.10.0)\n",
      "Requirement already satisfied, skipping upgrade: kiwisolver>=1.0.1 in c:\\programdata\\anaconda3\\lib\\site-packages (from matplotlib>=3.2.0->pandas-profiling) (1.2.0)\n",
      "Requirement already satisfied, skipping upgrade: pyparsing!=2.0.4,!=2.1.2,!=2.1.6,>=2.0.1 in c:\\programdata\\anaconda3\\lib\\site-packages (from matplotlib>=3.2.0->pandas-profiling) (2.4.7)\n",
      "Requirement already satisfied, skipping upgrade: MarkupSafe>=0.23 in c:\\programdata\\anaconda3\\lib\\site-packages (from jinja2>=2.11.1->pandas-profiling) (1.1.1)\n",
      "Requirement already satisfied, skipping upgrade: chardet<4,>=3.0.2 in c:\\programdata\\anaconda3\\lib\\site-packages (from requests>=2.24.0->pandas-profiling) (3.0.4)\n",
      "Requirement already satisfied, skipping upgrade: urllib3!=1.25.0,!=1.25.1,<1.26,>=1.21.1 in c:\\programdata\\anaconda3\\lib\\site-packages (from requests>=2.24.0->pandas-profiling) (1.25.9)\n",
      "Requirement already satisfied, skipping upgrade: certifi>=2017.4.17 in c:\\programdata\\anaconda3\\lib\\site-packages (from requests>=2.24.0->pandas-profiling) (2020.6.20)\n",
      "Requirement already satisfied, skipping upgrade: idna<3,>=2.5 in c:\\programdata\\anaconda3\\lib\\site-packages (from requests>=2.24.0->pandas-profiling) (2.10)\n",
      "Requirement already satisfied, skipping upgrade: pytz>=2017.2 in c:\\programdata\\anaconda3\\lib\\site-packages (from pandas!=1.0.0,!=1.0.1,!=1.0.2,!=1.1.0,>=0.25.3->pandas-profiling) (2020.1)\n",
      "Requirement already satisfied, skipping upgrade: colorama; platform_system == \"Windows\" in c:\\programdata\\anaconda3\\lib\\site-packages (from tqdm>=4.48.2->pandas-profiling) (0.4.3)\n",
      "Requirement already satisfied, skipping upgrade: typing-extensions>=3.7.4.3 in c:\\users\\intel\\appdata\\roaming\\python\\python38\\site-packages (from pydantic>=1.8.1->pandas-profiling) (3.10.0.0)\n",
      "Requirement already satisfied, skipping upgrade: decorator>=4.3.0 in c:\\programdata\\anaconda3\\lib\\site-packages (from networkx>=2.4->visions[type_image_path]==0.7.1->pandas-profiling) (4.4.2)\n",
      "Requirement already satisfied, skipping upgrade: six in c:\\programdata\\anaconda3\\lib\\site-packages (from imagehash; extra == \"type_image_path\"->visions[type_image_path]==0.7.1->pandas-profiling) (1.15.0)\n",
      "Requirement already satisfied, skipping upgrade: PyWavelets in c:\\programdata\\anaconda3\\lib\\site-packages (from imagehash; extra == \"type_image_path\"->visions[type_image_path]==0.7.1->pandas-profiling) (1.1.1)\n"
     ]
    }
   ],
   "source": [
    "!pip install pandas-profiling --upgrade"
   ]
  },
  {
   "cell_type": "code",
   "execution_count": 2,
   "metadata": {},
   "outputs": [],
   "source": [
    "import numpy as np                 \n",
    "import pandas as pd\n",
    "import matplotlib.pyplot as plt\n",
    "\n",
    "%matplotlib inline\n",
    "import seaborn as sns\n",
    "\n",
    "import warnings\n",
    "warnings.filterwarnings('ignore')\n",
    "\n",
    "from sklearn import metrics "
   ]
  },
  {
   "cell_type": "code",
   "execution_count": 3,
   "metadata": {},
   "outputs": [
    {
     "data": {
      "text/html": [
       "<div>\n",
       "<style scoped>\n",
       "    .dataframe tbody tr th:only-of-type {\n",
       "        vertical-align: middle;\n",
       "    }\n",
       "\n",
       "    .dataframe tbody tr th {\n",
       "        vertical-align: top;\n",
       "    }\n",
       "\n",
       "    .dataframe thead th {\n",
       "        text-align: right;\n",
       "    }\n",
       "</style>\n",
       "<table border=\"1\" class=\"dataframe\">\n",
       "  <thead>\n",
       "    <tr style=\"text-align: right;\">\n",
       "      <th></th>\n",
       "      <th>Id</th>\n",
       "      <th>Sex</th>\n",
       "      <th>Length</th>\n",
       "      <th>Diameter</th>\n",
       "      <th>Height</th>\n",
       "      <th>Whole_weight</th>\n",
       "      <th>Shucked_weight</th>\n",
       "      <th>Viscera_weight</th>\n",
       "      <th>Shell_weight</th>\n",
       "      <th>Rings</th>\n",
       "    </tr>\n",
       "  </thead>\n",
       "  <tbody>\n",
       "    <tr>\n",
       "      <th>0</th>\n",
       "      <td>3141</td>\n",
       "      <td>I</td>\n",
       "      <td>0.180</td>\n",
       "      <td>0.135</td>\n",
       "      <td>0.080</td>\n",
       "      <td>0.0330</td>\n",
       "      <td>0.0145</td>\n",
       "      <td>0.0070</td>\n",
       "      <td>0.0100</td>\n",
       "      <td>5</td>\n",
       "    </tr>\n",
       "    <tr>\n",
       "      <th>1</th>\n",
       "      <td>3521</td>\n",
       "      <td>I</td>\n",
       "      <td>0.215</td>\n",
       "      <td>0.150</td>\n",
       "      <td>0.055</td>\n",
       "      <td>0.0410</td>\n",
       "      <td>0.0150</td>\n",
       "      <td>0.0090</td>\n",
       "      <td>0.0125</td>\n",
       "      <td>3</td>\n",
       "    </tr>\n",
       "    <tr>\n",
       "      <th>2</th>\n",
       "      <td>883</td>\n",
       "      <td>M</td>\n",
       "      <td>0.660</td>\n",
       "      <td>0.530</td>\n",
       "      <td>0.170</td>\n",
       "      <td>1.3905</td>\n",
       "      <td>0.5905</td>\n",
       "      <td>0.2120</td>\n",
       "      <td>0.4530</td>\n",
       "      <td>15</td>\n",
       "    </tr>\n",
       "    <tr>\n",
       "      <th>3</th>\n",
       "      <td>3627</td>\n",
       "      <td>M</td>\n",
       "      <td>0.715</td>\n",
       "      <td>0.525</td>\n",
       "      <td>0.200</td>\n",
       "      <td>1.8900</td>\n",
       "      <td>0.9500</td>\n",
       "      <td>0.4360</td>\n",
       "      <td>0.4305</td>\n",
       "      <td>10</td>\n",
       "    </tr>\n",
       "    <tr>\n",
       "      <th>4</th>\n",
       "      <td>2106</td>\n",
       "      <td>M</td>\n",
       "      <td>0.595</td>\n",
       "      <td>0.455</td>\n",
       "      <td>0.155</td>\n",
       "      <td>1.0410</td>\n",
       "      <td>0.4160</td>\n",
       "      <td>0.2105</td>\n",
       "      <td>0.3650</td>\n",
       "      <td>14</td>\n",
       "    </tr>\n",
       "    <tr>\n",
       "      <th>...</th>\n",
       "      <td>...</td>\n",
       "      <td>...</td>\n",
       "      <td>...</td>\n",
       "      <td>...</td>\n",
       "      <td>...</td>\n",
       "      <td>...</td>\n",
       "      <td>...</td>\n",
       "      <td>...</td>\n",
       "      <td>...</td>\n",
       "      <td>...</td>\n",
       "    </tr>\n",
       "    <tr>\n",
       "      <th>3336</th>\n",
       "      <td>1033</td>\n",
       "      <td>M</td>\n",
       "      <td>0.650</td>\n",
       "      <td>0.525</td>\n",
       "      <td>0.185</td>\n",
       "      <td>1.6220</td>\n",
       "      <td>0.6645</td>\n",
       "      <td>0.3225</td>\n",
       "      <td>0.4770</td>\n",
       "      <td>10</td>\n",
       "    </tr>\n",
       "    <tr>\n",
       "      <th>3337</th>\n",
       "      <td>3264</td>\n",
       "      <td>F</td>\n",
       "      <td>0.655</td>\n",
       "      <td>0.500</td>\n",
       "      <td>0.140</td>\n",
       "      <td>1.1705</td>\n",
       "      <td>0.5405</td>\n",
       "      <td>0.3175</td>\n",
       "      <td>0.2850</td>\n",
       "      <td>12</td>\n",
       "    </tr>\n",
       "    <tr>\n",
       "      <th>3338</th>\n",
       "      <td>1653</td>\n",
       "      <td>M</td>\n",
       "      <td>0.595</td>\n",
       "      <td>0.450</td>\n",
       "      <td>0.145</td>\n",
       "      <td>0.9590</td>\n",
       "      <td>0.4630</td>\n",
       "      <td>0.2065</td>\n",
       "      <td>0.2535</td>\n",
       "      <td>10</td>\n",
       "    </tr>\n",
       "    <tr>\n",
       "      <th>3339</th>\n",
       "      <td>2607</td>\n",
       "      <td>F</td>\n",
       "      <td>0.625</td>\n",
       "      <td>0.490</td>\n",
       "      <td>0.165</td>\n",
       "      <td>1.1270</td>\n",
       "      <td>0.4770</td>\n",
       "      <td>0.2365</td>\n",
       "      <td>0.3185</td>\n",
       "      <td>9</td>\n",
       "    </tr>\n",
       "    <tr>\n",
       "      <th>3340</th>\n",
       "      <td>2732</td>\n",
       "      <td>I</td>\n",
       "      <td>0.410</td>\n",
       "      <td>0.325</td>\n",
       "      <td>0.110</td>\n",
       "      <td>0.3260</td>\n",
       "      <td>0.1325</td>\n",
       "      <td>0.0750</td>\n",
       "      <td>0.1010</td>\n",
       "      <td>8</td>\n",
       "    </tr>\n",
       "  </tbody>\n",
       "</table>\n",
       "<p>3341 rows × 10 columns</p>\n",
       "</div>"
      ],
      "text/plain": [
       "        Id Sex  Length  Diameter  Height  Whole_weight  Shucked_weight  \\\n",
       "0     3141   I   0.180     0.135   0.080        0.0330          0.0145   \n",
       "1     3521   I   0.215     0.150   0.055        0.0410          0.0150   \n",
       "2      883   M   0.660     0.530   0.170        1.3905          0.5905   \n",
       "3     3627   M   0.715     0.525   0.200        1.8900          0.9500   \n",
       "4     2106   M   0.595     0.455   0.155        1.0410          0.4160   \n",
       "...    ...  ..     ...       ...     ...           ...             ...   \n",
       "3336  1033   M   0.650     0.525   0.185        1.6220          0.6645   \n",
       "3337  3264   F   0.655     0.500   0.140        1.1705          0.5405   \n",
       "3338  1653   M   0.595     0.450   0.145        0.9590          0.4630   \n",
       "3339  2607   F   0.625     0.490   0.165        1.1270          0.4770   \n",
       "3340  2732   I   0.410     0.325   0.110        0.3260          0.1325   \n",
       "\n",
       "      Viscera_weight  Shell_weight  Rings  \n",
       "0             0.0070        0.0100      5  \n",
       "1             0.0090        0.0125      3  \n",
       "2             0.2120        0.4530     15  \n",
       "3             0.4360        0.4305     10  \n",
       "4             0.2105        0.3650     14  \n",
       "...              ...           ...    ...  \n",
       "3336          0.3225        0.4770     10  \n",
       "3337          0.3175        0.2850     12  \n",
       "3338          0.2065        0.2535     10  \n",
       "3339          0.2365        0.3185      9  \n",
       "3340          0.0750        0.1010      8  \n",
       "\n",
       "[3341 rows x 10 columns]"
      ]
     },
     "execution_count": 3,
     "metadata": {},
     "output_type": "execute_result"
    }
   ],
   "source": [
    "df_train=pd.read_csv('https://raw.githubusercontent.com/smithaprakash91/ABALONE-AGE-PREDICTION/main/abalone_train.csv')\n",
    "df_train"
   ]
  },
  {
   "cell_type": "markdown",
   "metadata": {},
   "source": [
    "**The column Rings is also present in the dataset which is a measure of the age of the abalone. By adding 1.5 to the number of rings, we get the abalone’s age in years**"
   ]
  },
  {
   "cell_type": "code",
   "execution_count": 4,
   "metadata": {},
   "outputs": [],
   "source": [
    "df_train['Age'] = df_train['Rings'] + 1.5"
   ]
  },
  {
   "cell_type": "code",
   "execution_count": 5,
   "metadata": {},
   "outputs": [
    {
     "data": {
      "text/html": [
       "<div>\n",
       "<style scoped>\n",
       "    .dataframe tbody tr th:only-of-type {\n",
       "        vertical-align: middle;\n",
       "    }\n",
       "\n",
       "    .dataframe tbody tr th {\n",
       "        vertical-align: top;\n",
       "    }\n",
       "\n",
       "    .dataframe thead th {\n",
       "        text-align: right;\n",
       "    }\n",
       "</style>\n",
       "<table border=\"1\" class=\"dataframe\">\n",
       "  <thead>\n",
       "    <tr style=\"text-align: right;\">\n",
       "      <th></th>\n",
       "      <th>Id</th>\n",
       "      <th>Sex</th>\n",
       "      <th>Length</th>\n",
       "      <th>Diameter</th>\n",
       "      <th>Height</th>\n",
       "      <th>Whole_weight</th>\n",
       "      <th>Shucked_weight</th>\n",
       "      <th>Viscera_weight</th>\n",
       "      <th>Shell_weight</th>\n",
       "      <th>Rings</th>\n",
       "      <th>Age</th>\n",
       "    </tr>\n",
       "  </thead>\n",
       "  <tbody>\n",
       "    <tr>\n",
       "      <th>0</th>\n",
       "      <td>3141</td>\n",
       "      <td>I</td>\n",
       "      <td>0.180</td>\n",
       "      <td>0.135</td>\n",
       "      <td>0.080</td>\n",
       "      <td>0.0330</td>\n",
       "      <td>0.0145</td>\n",
       "      <td>0.0070</td>\n",
       "      <td>0.0100</td>\n",
       "      <td>5</td>\n",
       "      <td>6.5</td>\n",
       "    </tr>\n",
       "    <tr>\n",
       "      <th>1</th>\n",
       "      <td>3521</td>\n",
       "      <td>I</td>\n",
       "      <td>0.215</td>\n",
       "      <td>0.150</td>\n",
       "      <td>0.055</td>\n",
       "      <td>0.0410</td>\n",
       "      <td>0.0150</td>\n",
       "      <td>0.0090</td>\n",
       "      <td>0.0125</td>\n",
       "      <td>3</td>\n",
       "      <td>4.5</td>\n",
       "    </tr>\n",
       "    <tr>\n",
       "      <th>2</th>\n",
       "      <td>883</td>\n",
       "      <td>M</td>\n",
       "      <td>0.660</td>\n",
       "      <td>0.530</td>\n",
       "      <td>0.170</td>\n",
       "      <td>1.3905</td>\n",
       "      <td>0.5905</td>\n",
       "      <td>0.2120</td>\n",
       "      <td>0.4530</td>\n",
       "      <td>15</td>\n",
       "      <td>16.5</td>\n",
       "    </tr>\n",
       "    <tr>\n",
       "      <th>3</th>\n",
       "      <td>3627</td>\n",
       "      <td>M</td>\n",
       "      <td>0.715</td>\n",
       "      <td>0.525</td>\n",
       "      <td>0.200</td>\n",
       "      <td>1.8900</td>\n",
       "      <td>0.9500</td>\n",
       "      <td>0.4360</td>\n",
       "      <td>0.4305</td>\n",
       "      <td>10</td>\n",
       "      <td>11.5</td>\n",
       "    </tr>\n",
       "    <tr>\n",
       "      <th>4</th>\n",
       "      <td>2106</td>\n",
       "      <td>M</td>\n",
       "      <td>0.595</td>\n",
       "      <td>0.455</td>\n",
       "      <td>0.155</td>\n",
       "      <td>1.0410</td>\n",
       "      <td>0.4160</td>\n",
       "      <td>0.2105</td>\n",
       "      <td>0.3650</td>\n",
       "      <td>14</td>\n",
       "      <td>15.5</td>\n",
       "    </tr>\n",
       "  </tbody>\n",
       "</table>\n",
       "</div>"
      ],
      "text/plain": [
       "     Id Sex  Length  Diameter  Height  Whole_weight  Shucked_weight  \\\n",
       "0  3141   I   0.180     0.135   0.080        0.0330          0.0145   \n",
       "1  3521   I   0.215     0.150   0.055        0.0410          0.0150   \n",
       "2   883   M   0.660     0.530   0.170        1.3905          0.5905   \n",
       "3  3627   M   0.715     0.525   0.200        1.8900          0.9500   \n",
       "4  2106   M   0.595     0.455   0.155        1.0410          0.4160   \n",
       "\n",
       "   Viscera_weight  Shell_weight  Rings   Age  \n",
       "0          0.0070        0.0100      5   6.5  \n",
       "1          0.0090        0.0125      3   4.5  \n",
       "2          0.2120        0.4530     15  16.5  \n",
       "3          0.4360        0.4305     10  11.5  \n",
       "4          0.2105        0.3650     14  15.5  "
      ]
     },
     "execution_count": 5,
     "metadata": {},
     "output_type": "execute_result"
    }
   ],
   "source": [
    "df_train.head()"
   ]
  },
  {
   "cell_type": "code",
   "execution_count": 6,
   "metadata": {},
   "outputs": [
    {
     "data": {
      "text/html": [
       "<div>\n",
       "<style scoped>\n",
       "    .dataframe tbody tr th:only-of-type {\n",
       "        vertical-align: middle;\n",
       "    }\n",
       "\n",
       "    .dataframe tbody tr th {\n",
       "        vertical-align: top;\n",
       "    }\n",
       "\n",
       "    .dataframe thead th {\n",
       "        text-align: right;\n",
       "    }\n",
       "</style>\n",
       "<table border=\"1\" class=\"dataframe\">\n",
       "  <thead>\n",
       "    <tr style=\"text-align: right;\">\n",
       "      <th></th>\n",
       "      <th>Id</th>\n",
       "      <th>Sex</th>\n",
       "      <th>Length</th>\n",
       "      <th>Diameter</th>\n",
       "      <th>Height</th>\n",
       "      <th>Whole_weight</th>\n",
       "      <th>Shucked_weight</th>\n",
       "      <th>Viscera_weight</th>\n",
       "      <th>Shell_weight</th>\n",
       "    </tr>\n",
       "  </thead>\n",
       "  <tbody>\n",
       "    <tr>\n",
       "      <th>0</th>\n",
       "      <td>668</td>\n",
       "      <td>M</td>\n",
       "      <td>0.550</td>\n",
       "      <td>0.425</td>\n",
       "      <td>0.155</td>\n",
       "      <td>0.9175</td>\n",
       "      <td>0.2775</td>\n",
       "      <td>0.2430</td>\n",
       "      <td>0.3350</td>\n",
       "    </tr>\n",
       "    <tr>\n",
       "      <th>1</th>\n",
       "      <td>1580</td>\n",
       "      <td>I</td>\n",
       "      <td>0.500</td>\n",
       "      <td>0.400</td>\n",
       "      <td>0.120</td>\n",
       "      <td>0.6160</td>\n",
       "      <td>0.2610</td>\n",
       "      <td>0.1430</td>\n",
       "      <td>0.1935</td>\n",
       "    </tr>\n",
       "    <tr>\n",
       "      <th>2</th>\n",
       "      <td>3784</td>\n",
       "      <td>M</td>\n",
       "      <td>0.620</td>\n",
       "      <td>0.480</td>\n",
       "      <td>0.155</td>\n",
       "      <td>1.2555</td>\n",
       "      <td>0.5270</td>\n",
       "      <td>0.3740</td>\n",
       "      <td>0.3175</td>\n",
       "    </tr>\n",
       "    <tr>\n",
       "      <th>3</th>\n",
       "      <td>463</td>\n",
       "      <td>I</td>\n",
       "      <td>0.220</td>\n",
       "      <td>0.165</td>\n",
       "      <td>0.055</td>\n",
       "      <td>0.0545</td>\n",
       "      <td>0.0215</td>\n",
       "      <td>0.0120</td>\n",
       "      <td>0.0200</td>\n",
       "    </tr>\n",
       "    <tr>\n",
       "      <th>4</th>\n",
       "      <td>2615</td>\n",
       "      <td>M</td>\n",
       "      <td>0.645</td>\n",
       "      <td>0.500</td>\n",
       "      <td>0.175</td>\n",
       "      <td>1.5105</td>\n",
       "      <td>0.6735</td>\n",
       "      <td>0.3755</td>\n",
       "      <td>0.3775</td>\n",
       "    </tr>\n",
       "    <tr>\n",
       "      <th>...</th>\n",
       "      <td>...</td>\n",
       "      <td>...</td>\n",
       "      <td>...</td>\n",
       "      <td>...</td>\n",
       "      <td>...</td>\n",
       "      <td>...</td>\n",
       "      <td>...</td>\n",
       "      <td>...</td>\n",
       "      <td>...</td>\n",
       "    </tr>\n",
       "    <tr>\n",
       "      <th>831</th>\n",
       "      <td>575</td>\n",
       "      <td>F</td>\n",
       "      <td>0.610</td>\n",
       "      <td>0.475</td>\n",
       "      <td>0.140</td>\n",
       "      <td>1.1330</td>\n",
       "      <td>0.5275</td>\n",
       "      <td>0.2355</td>\n",
       "      <td>0.3500</td>\n",
       "    </tr>\n",
       "    <tr>\n",
       "      <th>832</th>\n",
       "      <td>3231</td>\n",
       "      <td>M</td>\n",
       "      <td>0.410</td>\n",
       "      <td>0.325</td>\n",
       "      <td>0.120</td>\n",
       "      <td>0.3745</td>\n",
       "      <td>0.1580</td>\n",
       "      <td>0.0810</td>\n",
       "      <td>0.1250</td>\n",
       "    </tr>\n",
       "    <tr>\n",
       "      <th>833</th>\n",
       "      <td>1084</td>\n",
       "      <td>I</td>\n",
       "      <td>0.445</td>\n",
       "      <td>0.345</td>\n",
       "      <td>0.105</td>\n",
       "      <td>0.4090</td>\n",
       "      <td>0.1675</td>\n",
       "      <td>0.1015</td>\n",
       "      <td>0.1170</td>\n",
       "    </tr>\n",
       "    <tr>\n",
       "      <th>834</th>\n",
       "      <td>290</td>\n",
       "      <td>M</td>\n",
       "      <td>0.540</td>\n",
       "      <td>0.435</td>\n",
       "      <td>0.180</td>\n",
       "      <td>0.9960</td>\n",
       "      <td>0.3835</td>\n",
       "      <td>0.2260</td>\n",
       "      <td>0.3250</td>\n",
       "    </tr>\n",
       "    <tr>\n",
       "      <th>835</th>\n",
       "      <td>2713</td>\n",
       "      <td>I</td>\n",
       "      <td>0.250</td>\n",
       "      <td>0.175</td>\n",
       "      <td>0.060</td>\n",
       "      <td>0.0635</td>\n",
       "      <td>0.0275</td>\n",
       "      <td>0.0080</td>\n",
       "      <td>0.0200</td>\n",
       "    </tr>\n",
       "  </tbody>\n",
       "</table>\n",
       "<p>836 rows × 9 columns</p>\n",
       "</div>"
      ],
      "text/plain": [
       "       Id Sex  Length  Diameter  Height  Whole_weight  Shucked_weight  \\\n",
       "0     668   M   0.550     0.425   0.155        0.9175          0.2775   \n",
       "1    1580   I   0.500     0.400   0.120        0.6160          0.2610   \n",
       "2    3784   M   0.620     0.480   0.155        1.2555          0.5270   \n",
       "3     463   I   0.220     0.165   0.055        0.0545          0.0215   \n",
       "4    2615   M   0.645     0.500   0.175        1.5105          0.6735   \n",
       "..    ...  ..     ...       ...     ...           ...             ...   \n",
       "831   575   F   0.610     0.475   0.140        1.1330          0.5275   \n",
       "832  3231   M   0.410     0.325   0.120        0.3745          0.1580   \n",
       "833  1084   I   0.445     0.345   0.105        0.4090          0.1675   \n",
       "834   290   M   0.540     0.435   0.180        0.9960          0.3835   \n",
       "835  2713   I   0.250     0.175   0.060        0.0635          0.0275   \n",
       "\n",
       "     Viscera_weight  Shell_weight  \n",
       "0            0.2430        0.3350  \n",
       "1            0.1430        0.1935  \n",
       "2            0.3740        0.3175  \n",
       "3            0.0120        0.0200  \n",
       "4            0.3755        0.3775  \n",
       "..              ...           ...  \n",
       "831          0.2355        0.3500  \n",
       "832          0.0810        0.1250  \n",
       "833          0.1015        0.1170  \n",
       "834          0.2260        0.3250  \n",
       "835          0.0080        0.0200  \n",
       "\n",
       "[836 rows x 9 columns]"
      ]
     },
     "execution_count": 6,
     "metadata": {},
     "output_type": "execute_result"
    }
   ],
   "source": [
    "df_test=pd.read_csv('https://raw.githubusercontent.com/smithaprakash91/ABALONE-AGE-PREDICTION/main/abalone_test.csv')\n",
    "df_test"
   ]
  },
  {
   "cell_type": "code",
   "execution_count": 7,
   "metadata": {},
   "outputs": [
    {
     "name": "stdout",
     "output_type": "stream",
     "text": [
      "<class 'pandas.core.frame.DataFrame'>\n",
      "RangeIndex: 3341 entries, 0 to 3340\n",
      "Data columns (total 11 columns):\n",
      " #   Column          Non-Null Count  Dtype  \n",
      "---  ------          --------------  -----  \n",
      " 0   Id              3341 non-null   int64  \n",
      " 1   Sex             3341 non-null   object \n",
      " 2   Length          3341 non-null   float64\n",
      " 3   Diameter        3341 non-null   float64\n",
      " 4   Height          3341 non-null   float64\n",
      " 5   Whole_weight    3341 non-null   float64\n",
      " 6   Shucked_weight  3341 non-null   float64\n",
      " 7   Viscera_weight  3341 non-null   float64\n",
      " 8   Shell_weight    3341 non-null   float64\n",
      " 9   Rings           3341 non-null   int64  \n",
      " 10  Age             3341 non-null   float64\n",
      "dtypes: float64(8), int64(2), object(1)\n",
      "memory usage: 287.2+ KB\n"
     ]
    }
   ],
   "source": [
    "df_train.info()"
   ]
  },
  {
   "cell_type": "code",
   "execution_count": 8,
   "metadata": {},
   "outputs": [
    {
     "data": {
      "text/plain": [
       "M    1232\n",
       "F    1058\n",
       "I    1051\n",
       "Name: Sex, dtype: int64"
      ]
     },
     "execution_count": 8,
     "metadata": {},
     "output_type": "execute_result"
    }
   ],
   "source": [
    "df_train['Sex'].value_counts()"
   ]
  },
  {
   "cell_type": "code",
   "execution_count": 9,
   "metadata": {},
   "outputs": [
    {
     "data": {
      "text/html": [
       "<div>\n",
       "<style scoped>\n",
       "    .dataframe tbody tr th:only-of-type {\n",
       "        vertical-align: middle;\n",
       "    }\n",
       "\n",
       "    .dataframe tbody tr th {\n",
       "        vertical-align: top;\n",
       "    }\n",
       "\n",
       "    .dataframe thead th {\n",
       "        text-align: right;\n",
       "    }\n",
       "</style>\n",
       "<table border=\"1\" class=\"dataframe\">\n",
       "  <thead>\n",
       "    <tr style=\"text-align: right;\">\n",
       "      <th></th>\n",
       "      <th>Id</th>\n",
       "      <th>Sex</th>\n",
       "      <th>Length</th>\n",
       "      <th>Diameter</th>\n",
       "      <th>Height</th>\n",
       "      <th>Whole_weight</th>\n",
       "      <th>Shucked_weight</th>\n",
       "      <th>Viscera_weight</th>\n",
       "      <th>Shell_weight</th>\n",
       "      <th>Rings</th>\n",
       "      <th>Age</th>\n",
       "    </tr>\n",
       "  </thead>\n",
       "  <tbody>\n",
       "    <tr>\n",
       "      <th>0</th>\n",
       "      <td>3141</td>\n",
       "      <td>2</td>\n",
       "      <td>0.180</td>\n",
       "      <td>0.135</td>\n",
       "      <td>0.080</td>\n",
       "      <td>0.0330</td>\n",
       "      <td>0.0145</td>\n",
       "      <td>0.0070</td>\n",
       "      <td>0.0100</td>\n",
       "      <td>5</td>\n",
       "      <td>6.5</td>\n",
       "    </tr>\n",
       "    <tr>\n",
       "      <th>1</th>\n",
       "      <td>3521</td>\n",
       "      <td>2</td>\n",
       "      <td>0.215</td>\n",
       "      <td>0.150</td>\n",
       "      <td>0.055</td>\n",
       "      <td>0.0410</td>\n",
       "      <td>0.0150</td>\n",
       "      <td>0.0090</td>\n",
       "      <td>0.0125</td>\n",
       "      <td>3</td>\n",
       "      <td>4.5</td>\n",
       "    </tr>\n",
       "    <tr>\n",
       "      <th>2</th>\n",
       "      <td>883</td>\n",
       "      <td>0</td>\n",
       "      <td>0.660</td>\n",
       "      <td>0.530</td>\n",
       "      <td>0.170</td>\n",
       "      <td>1.3905</td>\n",
       "      <td>0.5905</td>\n",
       "      <td>0.2120</td>\n",
       "      <td>0.4530</td>\n",
       "      <td>15</td>\n",
       "      <td>16.5</td>\n",
       "    </tr>\n",
       "    <tr>\n",
       "      <th>3</th>\n",
       "      <td>3627</td>\n",
       "      <td>0</td>\n",
       "      <td>0.715</td>\n",
       "      <td>0.525</td>\n",
       "      <td>0.200</td>\n",
       "      <td>1.8900</td>\n",
       "      <td>0.9500</td>\n",
       "      <td>0.4360</td>\n",
       "      <td>0.4305</td>\n",
       "      <td>10</td>\n",
       "      <td>11.5</td>\n",
       "    </tr>\n",
       "    <tr>\n",
       "      <th>4</th>\n",
       "      <td>2106</td>\n",
       "      <td>0</td>\n",
       "      <td>0.595</td>\n",
       "      <td>0.455</td>\n",
       "      <td>0.155</td>\n",
       "      <td>1.0410</td>\n",
       "      <td>0.4160</td>\n",
       "      <td>0.2105</td>\n",
       "      <td>0.3650</td>\n",
       "      <td>14</td>\n",
       "      <td>15.5</td>\n",
       "    </tr>\n",
       "    <tr>\n",
       "      <th>...</th>\n",
       "      <td>...</td>\n",
       "      <td>...</td>\n",
       "      <td>...</td>\n",
       "      <td>...</td>\n",
       "      <td>...</td>\n",
       "      <td>...</td>\n",
       "      <td>...</td>\n",
       "      <td>...</td>\n",
       "      <td>...</td>\n",
       "      <td>...</td>\n",
       "      <td>...</td>\n",
       "    </tr>\n",
       "    <tr>\n",
       "      <th>3336</th>\n",
       "      <td>1033</td>\n",
       "      <td>0</td>\n",
       "      <td>0.650</td>\n",
       "      <td>0.525</td>\n",
       "      <td>0.185</td>\n",
       "      <td>1.6220</td>\n",
       "      <td>0.6645</td>\n",
       "      <td>0.3225</td>\n",
       "      <td>0.4770</td>\n",
       "      <td>10</td>\n",
       "      <td>11.5</td>\n",
       "    </tr>\n",
       "    <tr>\n",
       "      <th>3337</th>\n",
       "      <td>3264</td>\n",
       "      <td>1</td>\n",
       "      <td>0.655</td>\n",
       "      <td>0.500</td>\n",
       "      <td>0.140</td>\n",
       "      <td>1.1705</td>\n",
       "      <td>0.5405</td>\n",
       "      <td>0.3175</td>\n",
       "      <td>0.2850</td>\n",
       "      <td>12</td>\n",
       "      <td>13.5</td>\n",
       "    </tr>\n",
       "    <tr>\n",
       "      <th>3338</th>\n",
       "      <td>1653</td>\n",
       "      <td>0</td>\n",
       "      <td>0.595</td>\n",
       "      <td>0.450</td>\n",
       "      <td>0.145</td>\n",
       "      <td>0.9590</td>\n",
       "      <td>0.4630</td>\n",
       "      <td>0.2065</td>\n",
       "      <td>0.2535</td>\n",
       "      <td>10</td>\n",
       "      <td>11.5</td>\n",
       "    </tr>\n",
       "    <tr>\n",
       "      <th>3339</th>\n",
       "      <td>2607</td>\n",
       "      <td>1</td>\n",
       "      <td>0.625</td>\n",
       "      <td>0.490</td>\n",
       "      <td>0.165</td>\n",
       "      <td>1.1270</td>\n",
       "      <td>0.4770</td>\n",
       "      <td>0.2365</td>\n",
       "      <td>0.3185</td>\n",
       "      <td>9</td>\n",
       "      <td>10.5</td>\n",
       "    </tr>\n",
       "    <tr>\n",
       "      <th>3340</th>\n",
       "      <td>2732</td>\n",
       "      <td>2</td>\n",
       "      <td>0.410</td>\n",
       "      <td>0.325</td>\n",
       "      <td>0.110</td>\n",
       "      <td>0.3260</td>\n",
       "      <td>0.1325</td>\n",
       "      <td>0.0750</td>\n",
       "      <td>0.1010</td>\n",
       "      <td>8</td>\n",
       "      <td>9.5</td>\n",
       "    </tr>\n",
       "  </tbody>\n",
       "</table>\n",
       "<p>3341 rows × 11 columns</p>\n",
       "</div>"
      ],
      "text/plain": [
       "        Id  Sex  Length  Diameter  Height  Whole_weight  Shucked_weight  \\\n",
       "0     3141    2   0.180     0.135   0.080        0.0330          0.0145   \n",
       "1     3521    2   0.215     0.150   0.055        0.0410          0.0150   \n",
       "2      883    0   0.660     0.530   0.170        1.3905          0.5905   \n",
       "3     3627    0   0.715     0.525   0.200        1.8900          0.9500   \n",
       "4     2106    0   0.595     0.455   0.155        1.0410          0.4160   \n",
       "...    ...  ...     ...       ...     ...           ...             ...   \n",
       "3336  1033    0   0.650     0.525   0.185        1.6220          0.6645   \n",
       "3337  3264    1   0.655     0.500   0.140        1.1705          0.5405   \n",
       "3338  1653    0   0.595     0.450   0.145        0.9590          0.4630   \n",
       "3339  2607    1   0.625     0.490   0.165        1.1270          0.4770   \n",
       "3340  2732    2   0.410     0.325   0.110        0.3260          0.1325   \n",
       "\n",
       "      Viscera_weight  Shell_weight  Rings   Age  \n",
       "0             0.0070        0.0100      5   6.5  \n",
       "1             0.0090        0.0125      3   4.5  \n",
       "2             0.2120        0.4530     15  16.5  \n",
       "3             0.4360        0.4305     10  11.5  \n",
       "4             0.2105        0.3650     14  15.5  \n",
       "...              ...           ...    ...   ...  \n",
       "3336          0.3225        0.4770     10  11.5  \n",
       "3337          0.3175        0.2850     12  13.5  \n",
       "3338          0.2065        0.2535     10  11.5  \n",
       "3339          0.2365        0.3185      9  10.5  \n",
       "3340          0.0750        0.1010      8   9.5  \n",
       "\n",
       "[3341 rows x 11 columns]"
      ]
     },
     "execution_count": 9,
     "metadata": {},
     "output_type": "execute_result"
    }
   ],
   "source": [
    "df_train['Sex'].replace(['M', 'F', 'I'], [0, 1, 2], inplace = True)\n",
    "df_train"
   ]
  },
  {
   "cell_type": "code",
   "execution_count": 10,
   "metadata": {},
   "outputs": [
    {
     "name": "stdout",
     "output_type": "stream",
     "text": [
      "<class 'pandas.core.frame.DataFrame'>\n",
      "RangeIndex: 3341 entries, 0 to 3340\n",
      "Data columns (total 11 columns):\n",
      " #   Column          Non-Null Count  Dtype  \n",
      "---  ------          --------------  -----  \n",
      " 0   Id              3341 non-null   int64  \n",
      " 1   Sex             3341 non-null   int64  \n",
      " 2   Length          3341 non-null   float64\n",
      " 3   Diameter        3341 non-null   float64\n",
      " 4   Height          3341 non-null   float64\n",
      " 5   Whole_weight    3341 non-null   float64\n",
      " 6   Shucked_weight  3341 non-null   float64\n",
      " 7   Viscera_weight  3341 non-null   float64\n",
      " 8   Shell_weight    3341 non-null   float64\n",
      " 9   Rings           3341 non-null   int64  \n",
      " 10  Age             3341 non-null   float64\n",
      "dtypes: float64(8), int64(3)\n",
      "memory usage: 287.2 KB\n"
     ]
    }
   ],
   "source": [
    "df_train.info()"
   ]
  },
  {
   "cell_type": "code",
   "execution_count": 11,
   "metadata": {},
   "outputs": [
    {
     "data": {
      "text/plain": [
       "Id                0\n",
       "Sex               0\n",
       "Length            0\n",
       "Diameter          0\n",
       "Height            0\n",
       "Whole_weight      0\n",
       "Shucked_weight    0\n",
       "Viscera_weight    0\n",
       "Shell_weight      0\n",
       "Rings             0\n",
       "Age               0\n",
       "dtype: int64"
      ]
     },
     "execution_count": 11,
     "metadata": {},
     "output_type": "execute_result"
    }
   ],
   "source": [
    "df_train.isnull().sum()"
   ]
  },
  {
   "cell_type": "code",
   "execution_count": 12,
   "metadata": {
    "scrolled": true
   },
   "outputs": [
    {
     "data": {
      "text/html": [
       "<div>\n",
       "<style scoped>\n",
       "    .dataframe tbody tr th:only-of-type {\n",
       "        vertical-align: middle;\n",
       "    }\n",
       "\n",
       "    .dataframe tbody tr th {\n",
       "        vertical-align: top;\n",
       "    }\n",
       "\n",
       "    .dataframe thead th {\n",
       "        text-align: right;\n",
       "    }\n",
       "</style>\n",
       "<table border=\"1\" class=\"dataframe\">\n",
       "  <thead>\n",
       "    <tr style=\"text-align: right;\">\n",
       "      <th></th>\n",
       "      <th>Id</th>\n",
       "      <th>Sex</th>\n",
       "      <th>Length</th>\n",
       "      <th>Diameter</th>\n",
       "      <th>Height</th>\n",
       "      <th>Whole_weight</th>\n",
       "      <th>Shucked_weight</th>\n",
       "      <th>Viscera_weight</th>\n",
       "      <th>Shell_weight</th>\n",
       "      <th>Rings</th>\n",
       "      <th>Age</th>\n",
       "    </tr>\n",
       "  </thead>\n",
       "  <tbody>\n",
       "    <tr>\n",
       "      <th>count</th>\n",
       "      <td>3341.000000</td>\n",
       "      <td>3341.000000</td>\n",
       "      <td>3341.000000</td>\n",
       "      <td>3341.000000</td>\n",
       "      <td>3341.000000</td>\n",
       "      <td>3341.000000</td>\n",
       "      <td>3341.000000</td>\n",
       "      <td>3341.000000</td>\n",
       "      <td>3341.000000</td>\n",
       "      <td>3341.000000</td>\n",
       "      <td>3341.000000</td>\n",
       "    </tr>\n",
       "    <tr>\n",
       "      <th>mean</th>\n",
       "      <td>2085.442083</td>\n",
       "      <td>0.945825</td>\n",
       "      <td>0.525887</td>\n",
       "      <td>0.409463</td>\n",
       "      <td>0.140129</td>\n",
       "      <td>0.838176</td>\n",
       "      <td>0.363600</td>\n",
       "      <td>0.182507</td>\n",
       "      <td>0.241385</td>\n",
       "      <td>9.958396</td>\n",
       "      <td>11.458396</td>\n",
       "    </tr>\n",
       "    <tr>\n",
       "      <th>std</th>\n",
       "      <td>1197.721846</td>\n",
       "      <td>0.824983</td>\n",
       "      <td>0.119759</td>\n",
       "      <td>0.098895</td>\n",
       "      <td>0.042623</td>\n",
       "      <td>0.493789</td>\n",
       "      <td>0.224156</td>\n",
       "      <td>0.110439</td>\n",
       "      <td>0.139828</td>\n",
       "      <td>3.205591</td>\n",
       "      <td>3.205591</td>\n",
       "    </tr>\n",
       "    <tr>\n",
       "      <th>min</th>\n",
       "      <td>0.000000</td>\n",
       "      <td>0.000000</td>\n",
       "      <td>0.075000</td>\n",
       "      <td>0.055000</td>\n",
       "      <td>0.000000</td>\n",
       "      <td>0.002000</td>\n",
       "      <td>0.001000</td>\n",
       "      <td>0.000500</td>\n",
       "      <td>0.001500</td>\n",
       "      <td>1.000000</td>\n",
       "      <td>2.500000</td>\n",
       "    </tr>\n",
       "    <tr>\n",
       "      <th>25%</th>\n",
       "      <td>1055.000000</td>\n",
       "      <td>0.000000</td>\n",
       "      <td>0.450000</td>\n",
       "      <td>0.350000</td>\n",
       "      <td>0.115000</td>\n",
       "      <td>0.444500</td>\n",
       "      <td>0.188000</td>\n",
       "      <td>0.093500</td>\n",
       "      <td>0.132000</td>\n",
       "      <td>8.000000</td>\n",
       "      <td>9.500000</td>\n",
       "    </tr>\n",
       "    <tr>\n",
       "      <th>50%</th>\n",
       "      <td>2086.000000</td>\n",
       "      <td>1.000000</td>\n",
       "      <td>0.545000</td>\n",
       "      <td>0.425000</td>\n",
       "      <td>0.145000</td>\n",
       "      <td>0.810000</td>\n",
       "      <td>0.341500</td>\n",
       "      <td>0.172500</td>\n",
       "      <td>0.235000</td>\n",
       "      <td>10.000000</td>\n",
       "      <td>11.500000</td>\n",
       "    </tr>\n",
       "    <tr>\n",
       "      <th>75%</th>\n",
       "      <td>3114.000000</td>\n",
       "      <td>2.000000</td>\n",
       "      <td>0.620000</td>\n",
       "      <td>0.485000</td>\n",
       "      <td>0.165000</td>\n",
       "      <td>1.168500</td>\n",
       "      <td>0.509500</td>\n",
       "      <td>0.255500</td>\n",
       "      <td>0.330000</td>\n",
       "      <td>11.000000</td>\n",
       "      <td>12.500000</td>\n",
       "    </tr>\n",
       "    <tr>\n",
       "      <th>max</th>\n",
       "      <td>4175.000000</td>\n",
       "      <td>2.000000</td>\n",
       "      <td>0.815000</td>\n",
       "      <td>0.650000</td>\n",
       "      <td>1.130000</td>\n",
       "      <td>2.779500</td>\n",
       "      <td>1.488000</td>\n",
       "      <td>0.760000</td>\n",
       "      <td>1.005000</td>\n",
       "      <td>27.000000</td>\n",
       "      <td>28.500000</td>\n",
       "    </tr>\n",
       "  </tbody>\n",
       "</table>\n",
       "</div>"
      ],
      "text/plain": [
       "                Id          Sex       Length     Diameter       Height  \\\n",
       "count  3341.000000  3341.000000  3341.000000  3341.000000  3341.000000   \n",
       "mean   2085.442083     0.945825     0.525887     0.409463     0.140129   \n",
       "std    1197.721846     0.824983     0.119759     0.098895     0.042623   \n",
       "min       0.000000     0.000000     0.075000     0.055000     0.000000   \n",
       "25%    1055.000000     0.000000     0.450000     0.350000     0.115000   \n",
       "50%    2086.000000     1.000000     0.545000     0.425000     0.145000   \n",
       "75%    3114.000000     2.000000     0.620000     0.485000     0.165000   \n",
       "max    4175.000000     2.000000     0.815000     0.650000     1.130000   \n",
       "\n",
       "       Whole_weight  Shucked_weight  Viscera_weight  Shell_weight  \\\n",
       "count   3341.000000     3341.000000     3341.000000   3341.000000   \n",
       "mean       0.838176        0.363600        0.182507      0.241385   \n",
       "std        0.493789        0.224156        0.110439      0.139828   \n",
       "min        0.002000        0.001000        0.000500      0.001500   \n",
       "25%        0.444500        0.188000        0.093500      0.132000   \n",
       "50%        0.810000        0.341500        0.172500      0.235000   \n",
       "75%        1.168500        0.509500        0.255500      0.330000   \n",
       "max        2.779500        1.488000        0.760000      1.005000   \n",
       "\n",
       "             Rings          Age  \n",
       "count  3341.000000  3341.000000  \n",
       "mean      9.958396    11.458396  \n",
       "std       3.205591     3.205591  \n",
       "min       1.000000     2.500000  \n",
       "25%       8.000000     9.500000  \n",
       "50%      10.000000    11.500000  \n",
       "75%      11.000000    12.500000  \n",
       "max      27.000000    28.500000  "
      ]
     },
     "execution_count": 12,
     "metadata": {},
     "output_type": "execute_result"
    }
   ],
   "source": [
    "df_train.describe()"
   ]
  },
  {
   "cell_type": "markdown",
   "metadata": {},
   "source": [
    "### Exploratory Data Analysis"
   ]
  },
  {
   "cell_type": "code",
   "execution_count": 13,
   "metadata": {},
   "outputs": [
    {
     "name": "stdout",
     "output_type": "stream",
     "text": [
      "<class 'pandas.core.frame.DataFrame'>\n",
      "RangeIndex: 3341 entries, 0 to 3340\n",
      "Data columns (total 11 columns):\n",
      " #   Column          Non-Null Count  Dtype  \n",
      "---  ------          --------------  -----  \n",
      " 0   Id              3341 non-null   int64  \n",
      " 1   Sex             3341 non-null   int64  \n",
      " 2   Length          3341 non-null   float64\n",
      " 3   Diameter        3341 non-null   float64\n",
      " 4   Height          3341 non-null   float64\n",
      " 5   Whole_weight    3341 non-null   float64\n",
      " 6   Shucked_weight  3341 non-null   float64\n",
      " 7   Viscera_weight  3341 non-null   float64\n",
      " 8   Shell_weight    3341 non-null   float64\n",
      " 9   Rings           3341 non-null   int64  \n",
      " 10  Age             3341 non-null   float64\n",
      "dtypes: float64(8), int64(3)\n",
      "memory usage: 287.2 KB\n"
     ]
    }
   ],
   "source": [
    "df_train.info()"
   ]
  },
  {
   "cell_type": "markdown",
   "metadata": {},
   "source": [
    "**There are no missing values**"
   ]
  },
  {
   "cell_type": "code",
   "execution_count": 14,
   "metadata": {},
   "outputs": [
    {
     "data": {
      "text/html": [
       "<div>\n",
       "<style scoped>\n",
       "    .dataframe tbody tr th:only-of-type {\n",
       "        vertical-align: middle;\n",
       "    }\n",
       "\n",
       "    .dataframe tbody tr th {\n",
       "        vertical-align: top;\n",
       "    }\n",
       "\n",
       "    .dataframe thead th {\n",
       "        text-align: right;\n",
       "    }\n",
       "</style>\n",
       "<table border=\"1\" class=\"dataframe\">\n",
       "  <thead>\n",
       "    <tr style=\"text-align: right;\">\n",
       "      <th></th>\n",
       "      <th>index</th>\n",
       "      <th>Id</th>\n",
       "      <th>Sex</th>\n",
       "      <th>Length</th>\n",
       "      <th>Diameter</th>\n",
       "      <th>Height</th>\n",
       "      <th>Whole_weight</th>\n",
       "      <th>Shucked_weight</th>\n",
       "      <th>Viscera_weight</th>\n",
       "      <th>Shell_weight</th>\n",
       "      <th>Rings</th>\n",
       "      <th>Age</th>\n",
       "    </tr>\n",
       "  </thead>\n",
       "  <tbody>\n",
       "    <tr>\n",
       "      <th>0</th>\n",
       "      <td>0</td>\n",
       "      <td>3141</td>\n",
       "      <td>2</td>\n",
       "      <td>0.180</td>\n",
       "      <td>0.135</td>\n",
       "      <td>0.080</td>\n",
       "      <td>0.0330</td>\n",
       "      <td>0.0145</td>\n",
       "      <td>0.0070</td>\n",
       "      <td>0.0100</td>\n",
       "      <td>5</td>\n",
       "      <td>6.5</td>\n",
       "    </tr>\n",
       "    <tr>\n",
       "      <th>1</th>\n",
       "      <td>1</td>\n",
       "      <td>3521</td>\n",
       "      <td>2</td>\n",
       "      <td>0.215</td>\n",
       "      <td>0.150</td>\n",
       "      <td>0.055</td>\n",
       "      <td>0.0410</td>\n",
       "      <td>0.0150</td>\n",
       "      <td>0.0090</td>\n",
       "      <td>0.0125</td>\n",
       "      <td>3</td>\n",
       "      <td>4.5</td>\n",
       "    </tr>\n",
       "    <tr>\n",
       "      <th>2</th>\n",
       "      <td>2</td>\n",
       "      <td>883</td>\n",
       "      <td>0</td>\n",
       "      <td>0.660</td>\n",
       "      <td>0.530</td>\n",
       "      <td>0.170</td>\n",
       "      <td>1.3905</td>\n",
       "      <td>0.5905</td>\n",
       "      <td>0.2120</td>\n",
       "      <td>0.4530</td>\n",
       "      <td>15</td>\n",
       "      <td>16.5</td>\n",
       "    </tr>\n",
       "    <tr>\n",
       "      <th>3</th>\n",
       "      <td>3</td>\n",
       "      <td>3627</td>\n",
       "      <td>0</td>\n",
       "      <td>0.715</td>\n",
       "      <td>0.525</td>\n",
       "      <td>0.200</td>\n",
       "      <td>1.8900</td>\n",
       "      <td>0.9500</td>\n",
       "      <td>0.4360</td>\n",
       "      <td>0.4305</td>\n",
       "      <td>10</td>\n",
       "      <td>11.5</td>\n",
       "    </tr>\n",
       "    <tr>\n",
       "      <th>4</th>\n",
       "      <td>4</td>\n",
       "      <td>2106</td>\n",
       "      <td>0</td>\n",
       "      <td>0.595</td>\n",
       "      <td>0.455</td>\n",
       "      <td>0.155</td>\n",
       "      <td>1.0410</td>\n",
       "      <td>0.4160</td>\n",
       "      <td>0.2105</td>\n",
       "      <td>0.3650</td>\n",
       "      <td>14</td>\n",
       "      <td>15.5</td>\n",
       "    </tr>\n",
       "    <tr>\n",
       "      <th>...</th>\n",
       "      <td>...</td>\n",
       "      <td>...</td>\n",
       "      <td>...</td>\n",
       "      <td>...</td>\n",
       "      <td>...</td>\n",
       "      <td>...</td>\n",
       "      <td>...</td>\n",
       "      <td>...</td>\n",
       "      <td>...</td>\n",
       "      <td>...</td>\n",
       "      <td>...</td>\n",
       "      <td>...</td>\n",
       "    </tr>\n",
       "    <tr>\n",
       "      <th>3336</th>\n",
       "      <td>3336</td>\n",
       "      <td>1033</td>\n",
       "      <td>0</td>\n",
       "      <td>0.650</td>\n",
       "      <td>0.525</td>\n",
       "      <td>0.185</td>\n",
       "      <td>1.6220</td>\n",
       "      <td>0.6645</td>\n",
       "      <td>0.3225</td>\n",
       "      <td>0.4770</td>\n",
       "      <td>10</td>\n",
       "      <td>11.5</td>\n",
       "    </tr>\n",
       "    <tr>\n",
       "      <th>3337</th>\n",
       "      <td>3337</td>\n",
       "      <td>3264</td>\n",
       "      <td>1</td>\n",
       "      <td>0.655</td>\n",
       "      <td>0.500</td>\n",
       "      <td>0.140</td>\n",
       "      <td>1.1705</td>\n",
       "      <td>0.5405</td>\n",
       "      <td>0.3175</td>\n",
       "      <td>0.2850</td>\n",
       "      <td>12</td>\n",
       "      <td>13.5</td>\n",
       "    </tr>\n",
       "    <tr>\n",
       "      <th>3338</th>\n",
       "      <td>3338</td>\n",
       "      <td>1653</td>\n",
       "      <td>0</td>\n",
       "      <td>0.595</td>\n",
       "      <td>0.450</td>\n",
       "      <td>0.145</td>\n",
       "      <td>0.9590</td>\n",
       "      <td>0.4630</td>\n",
       "      <td>0.2065</td>\n",
       "      <td>0.2535</td>\n",
       "      <td>10</td>\n",
       "      <td>11.5</td>\n",
       "    </tr>\n",
       "    <tr>\n",
       "      <th>3339</th>\n",
       "      <td>3339</td>\n",
       "      <td>2607</td>\n",
       "      <td>1</td>\n",
       "      <td>0.625</td>\n",
       "      <td>0.490</td>\n",
       "      <td>0.165</td>\n",
       "      <td>1.1270</td>\n",
       "      <td>0.4770</td>\n",
       "      <td>0.2365</td>\n",
       "      <td>0.3185</td>\n",
       "      <td>9</td>\n",
       "      <td>10.5</td>\n",
       "    </tr>\n",
       "    <tr>\n",
       "      <th>3340</th>\n",
       "      <td>3340</td>\n",
       "      <td>2732</td>\n",
       "      <td>2</td>\n",
       "      <td>0.410</td>\n",
       "      <td>0.325</td>\n",
       "      <td>0.110</td>\n",
       "      <td>0.3260</td>\n",
       "      <td>0.1325</td>\n",
       "      <td>0.0750</td>\n",
       "      <td>0.1010</td>\n",
       "      <td>8</td>\n",
       "      <td>9.5</td>\n",
       "    </tr>\n",
       "  </tbody>\n",
       "</table>\n",
       "<p>3341 rows × 12 columns</p>\n",
       "</div>"
      ],
      "text/plain": [
       "      index    Id  Sex  Length  Diameter  Height  Whole_weight  \\\n",
       "0         0  3141    2   0.180     0.135   0.080        0.0330   \n",
       "1         1  3521    2   0.215     0.150   0.055        0.0410   \n",
       "2         2   883    0   0.660     0.530   0.170        1.3905   \n",
       "3         3  3627    0   0.715     0.525   0.200        1.8900   \n",
       "4         4  2106    0   0.595     0.455   0.155        1.0410   \n",
       "...     ...   ...  ...     ...       ...     ...           ...   \n",
       "3336   3336  1033    0   0.650     0.525   0.185        1.6220   \n",
       "3337   3337  3264    1   0.655     0.500   0.140        1.1705   \n",
       "3338   3338  1653    0   0.595     0.450   0.145        0.9590   \n",
       "3339   3339  2607    1   0.625     0.490   0.165        1.1270   \n",
       "3340   3340  2732    2   0.410     0.325   0.110        0.3260   \n",
       "\n",
       "      Shucked_weight  Viscera_weight  Shell_weight  Rings   Age  \n",
       "0             0.0145          0.0070        0.0100      5   6.5  \n",
       "1             0.0150          0.0090        0.0125      3   4.5  \n",
       "2             0.5905          0.2120        0.4530     15  16.5  \n",
       "3             0.9500          0.4360        0.4305     10  11.5  \n",
       "4             0.4160          0.2105        0.3650     14  15.5  \n",
       "...              ...             ...           ...    ...   ...  \n",
       "3336          0.6645          0.3225        0.4770     10  11.5  \n",
       "3337          0.5405          0.3175        0.2850     12  13.5  \n",
       "3338          0.4630          0.2065        0.2535     10  11.5  \n",
       "3339          0.4770          0.2365        0.3185      9  10.5  \n",
       "3340          0.1325          0.0750        0.1010      8   9.5  \n",
       "\n",
       "[3341 rows x 12 columns]"
      ]
     },
     "execution_count": 14,
     "metadata": {},
     "output_type": "execute_result"
    }
   ],
   "source": [
    "df_train=df_train.drop_duplicates()\n",
    "df_train.reset_index()"
   ]
  },
  {
   "cell_type": "markdown",
   "metadata": {},
   "source": [
    "#### Numerical data distribution"
   ]
  },
  {
   "cell_type": "code",
   "execution_count": 19,
   "metadata": {},
   "outputs": [
    {
     "data": {
      "text/plain": [
       "Text(0, 0.5, 'Count')"
      ]
     },
     "execution_count": 19,
     "metadata": {},
     "output_type": "execute_result"
    },
    {
     "data": {
      "image/png": "[encoded data removed]",
      "text/plain": [
       "<Figure size 432x288 with 1 Axes>"
      ]
     },
     "metadata": {
      "needs_background": "light"
     },
     "output_type": "display_data"
    }
   ],
   "source": [
    "plt.hist(df_train['Whole_weight'])\n",
    "plt.xlabel(\"Whole weight (g)\")\n",
    "plt.ylabel(\"Count\")"
   ]
  },
  {
   "cell_type": "code",
   "execution_count": 20,
   "metadata": {},
   "outputs": [
    {
     "name": "stdout",
     "output_type": "stream",
     "text": [
      "#1940B3\n"
     ]
    }
   ],
   "source": [
    "import random\n",
    "r = lambda: random.randint(0,255)\n",
    "print('#%02X%02X%02X' % (r(),r(),r()))"
   ]
  },
  {
   "cell_type": "code",
   "execution_count": 21,
   "metadata": {},
   "outputs": [],
   "source": [
    "import random\n",
    "color = \"%06x\" % random.randint(0, 0xFFFFFF)"
   ]
  },
  {
   "cell_type": "code",
   "execution_count": 22,
   "metadata": {},
   "outputs": [
    {
     "data": {
      "image/png": "[encoded data removed]",
      "text/plain": [
       "<Figure size 1080x720 with 12 Axes>"
      ]
     },
     "metadata": {
      "needs_background": "light"
     },
     "output_type": "display_data"
    }
   ],
   "source": [
    "fig, axes = plt.subplots(nrows = 4, ncols = 3, sharex = False, figsize=(15, 10))\n",
    "colors = []\n",
    "for i in range(11):\n",
    "    colors.append('#%06X' % random.randint(0, 0xFFFFFF))\n",
    "columns = ['Id', 'Sex', 'Length', 'Diameter', 'Height', 'Whole_weight', 'Shucked_weight','Viscera_weight','Shell_weight','Rings','Age']\n",
    "        \n",
    "for ax, col, color in zip(axes.flat, columns, colors):\n",
    "  sns.distplot(a = df_train[col], bins = 50, ax = ax, color = color)\n",
    "  ax.set_title(col)\n",
    "  plt.setp(axes, yticks=[])\n",
    "  ax.grid(False)\n",
    "plt.tight_layout()\n",
    "plt.show()"
   ]
  },
  {
   "cell_type": "markdown",
   "metadata": {},
   "source": [
    "#### Observations:-\n",
    "**Positive skewed (mean > median)**\n",
    "- Shucked_weight\n",
    "- Whole_weight\n",
    "\n",
    "**Negative skewed (mean < median)**\n",
    "- Rings\n",
    "- Viscera_weight\n",
    "- Height\n",
    "- Diameter\n",
    "- Length\n",
    "- Sex"
   ]
  },
  {
   "cell_type": "markdown",
   "metadata": {},
   "source": [
    "**Question 1:What's the gender distribution of the abalone?**"
   ]
  },
  {
   "cell_type": "code",
   "execution_count": 24,
   "metadata": {},
   "outputs": [
    {
     "data": {
      "text/plain": [
       "3"
      ]
     },
     "execution_count": 24,
     "metadata": {},
     "output_type": "execute_result"
    }
   ],
   "source": [
    "df_train['Sex'].nunique()"
   ]
  },
  {
   "cell_type": "code",
   "execution_count": 25,
   "metadata": {},
   "outputs": [
    {
     "data": {
      "text/plain": [
       "0    1232\n",
       "1    1058\n",
       "2    1051\n",
       "Name: Sex, dtype: int64"
      ]
     },
     "execution_count": 25,
     "metadata": {},
     "output_type": "execute_result"
    }
   ],
   "source": [
    "df_train['Sex'].value_counts()"
   ]
  },
  {
   "cell_type": "code",
   "execution_count": 30,
   "metadata": {},
   "outputs": [
    {
     "data": {
      "text/plain": [
       "<matplotlib.axes._subplots.AxesSubplot at 0xd9a6670>"
      ]
     },
     "execution_count": 30,
     "metadata": {},
     "output_type": "execute_result"
    },
    {
     "data": {
      "image/png": "[encoded data removed]",
      "text/plain": [
       "<Figure size 864x864 with 1 Axes>"
      ]
     },
     "metadata": {
      "needs_background": "light"
     },
     "output_type": "display_data"
    }
   ],
   "source": [
    "plt.figure(figsize=(12,12))\n",
    "sns.countplot(y='Sex',data=df_train,order=df_train['Sex'].value_counts().index)"
   ]
  },
  {
   "cell_type": "markdown",
   "metadata": {},
   "source": [
    "**Question 2: What's the minimum and maximum age of the abalone?**"
   ]
  },
  {
   "cell_type": "code",
   "execution_count": 31,
   "metadata": {},
   "outputs": [
    {
     "data": {
      "text/plain": [
       "27"
      ]
     },
     "execution_count": 31,
     "metadata": {},
     "output_type": "execute_result"
    }
   ],
   "source": [
    "df_train['Age'].nunique()"
   ]
  },
  {
   "cell_type": "code",
   "execution_count": 33,
   "metadata": {},
   "outputs": [
    {
     "data": {
      "text/plain": [
       "28.5"
      ]
     },
     "execution_count": 33,
     "metadata": {},
     "output_type": "execute_result"
    }
   ],
   "source": [
    "df_train['Age'].max()"
   ]
  },
  {
   "cell_type": "code",
   "execution_count": 34,
   "metadata": {},
   "outputs": [
    {
     "data": {
      "text/plain": [
       "2.5"
      ]
     },
     "execution_count": 34,
     "metadata": {},
     "output_type": "execute_result"
    }
   ],
   "source": [
    "df_train['Age'].min()"
   ]
  },
  {
   "cell_type": "markdown",
   "metadata": {},
   "source": [
    "**Checking Covariance between the variables**"
   ]
  },
  {
   "cell_type": "code",
   "execution_count": 36,
   "metadata": {},
   "outputs": [
    {
     "data": {
      "text/html": [
       "<div>\n",
       "<style scoped>\n",
       "    .dataframe tbody tr th:only-of-type {\n",
       "        vertical-align: middle;\n",
       "    }\n",
       "\n",
       "    .dataframe tbody tr th {\n",
       "        vertical-align: top;\n",
       "    }\n",
       "\n",
       "    .dataframe thead th {\n",
       "        text-align: right;\n",
       "    }\n",
       "</style>\n",
       "<table border=\"1\" class=\"dataframe\">\n",
       "  <thead>\n",
       "    <tr style=\"text-align: right;\">\n",
       "      <th></th>\n",
       "      <th>Id</th>\n",
       "      <th>Sex</th>\n",
       "      <th>Length</th>\n",
       "      <th>Diameter</th>\n",
       "      <th>Height</th>\n",
       "      <th>Whole_weight</th>\n",
       "      <th>Shucked_weight</th>\n",
       "      <th>Viscera_weight</th>\n",
       "      <th>Shell_weight</th>\n",
       "      <th>Rings</th>\n",
       "      <th>Age</th>\n",
       "    </tr>\n",
       "  </thead>\n",
       "  <tbody>\n",
       "    <tr>\n",
       "      <th>Id</th>\n",
       "      <td>1.434538e+06</td>\n",
       "      <td>43.525454</td>\n",
       "      <td>12.370774</td>\n",
       "      <td>8.692238</td>\n",
       "      <td>2.015762</td>\n",
       "      <td>37.280594</td>\n",
       "      <td>23.962477</td>\n",
       "      <td>8.570389</td>\n",
       "      <td>6.090638</td>\n",
       "      <td>-360.291183</td>\n",
       "      <td>-360.291183</td>\n",
       "    </tr>\n",
       "    <tr>\n",
       "      <th>Sex</th>\n",
       "      <td>4.352545e+01</td>\n",
       "      <td>0.680597</td>\n",
       "      <td>-0.044696</td>\n",
       "      <td>-0.037538</td>\n",
       "      <td>-0.014557</td>\n",
       "      <td>-0.188214</td>\n",
       "      <td>-0.081529</td>\n",
       "      <td>-0.041391</td>\n",
       "      <td>-0.051545</td>\n",
       "      <td>-0.936386</td>\n",
       "      <td>-0.936386</td>\n",
       "    </tr>\n",
       "    <tr>\n",
       "      <th>Length</th>\n",
       "      <td>1.237077e+01</td>\n",
       "      <td>-0.044696</td>\n",
       "      <td>0.014342</td>\n",
       "      <td>0.011685</td>\n",
       "      <td>0.004132</td>\n",
       "      <td>0.054717</td>\n",
       "      <td>0.024109</td>\n",
       "      <td>0.011929</td>\n",
       "      <td>0.015015</td>\n",
       "      <td>0.211883</td>\n",
       "      <td>0.211883</td>\n",
       "    </tr>\n",
       "    <tr>\n",
       "      <th>Diameter</th>\n",
       "      <td>8.692238e+00</td>\n",
       "      <td>-0.037538</td>\n",
       "      <td>0.011685</td>\n",
       "      <td>0.009780</td>\n",
       "      <td>0.003436</td>\n",
       "      <td>0.045159</td>\n",
       "      <td>0.019790</td>\n",
       "      <td>0.009809</td>\n",
       "      <td>0.012500</td>\n",
       "      <td>0.180576</td>\n",
       "      <td>0.180576</td>\n",
       "    </tr>\n",
       "    <tr>\n",
       "      <th>Height</th>\n",
       "      <td>2.015762e+00</td>\n",
       "      <td>-0.014557</td>\n",
       "      <td>0.004132</td>\n",
       "      <td>0.003436</td>\n",
       "      <td>0.001817</td>\n",
       "      <td>0.016892</td>\n",
       "      <td>0.007280</td>\n",
       "      <td>0.003676</td>\n",
       "      <td>0.004764</td>\n",
       "      <td>0.072905</td>\n",
       "      <td>0.072905</td>\n",
       "    </tr>\n",
       "    <tr>\n",
       "      <th>Whole_weight</th>\n",
       "      <td>3.728059e+01</td>\n",
       "      <td>-0.188214</td>\n",
       "      <td>0.054717</td>\n",
       "      <td>0.045159</td>\n",
       "      <td>0.016892</td>\n",
       "      <td>0.243827</td>\n",
       "      <td>0.107310</td>\n",
       "      <td>0.052675</td>\n",
       "      <td>0.065817</td>\n",
       "      <td>0.847397</td>\n",
       "      <td>0.847397</td>\n",
       "    </tr>\n",
       "    <tr>\n",
       "      <th>Shucked_weight</th>\n",
       "      <td>2.396248e+01</td>\n",
       "      <td>-0.081529</td>\n",
       "      <td>0.024109</td>\n",
       "      <td>0.019790</td>\n",
       "      <td>0.007280</td>\n",
       "      <td>0.107310</td>\n",
       "      <td>0.050246</td>\n",
       "      <td>0.023084</td>\n",
       "      <td>0.027574</td>\n",
       "      <td>0.297735</td>\n",
       "      <td>0.297735</td>\n",
       "    </tr>\n",
       "    <tr>\n",
       "      <th>Viscera_weight</th>\n",
       "      <td>8.570389e+00</td>\n",
       "      <td>-0.041391</td>\n",
       "      <td>0.011929</td>\n",
       "      <td>0.009809</td>\n",
       "      <td>0.003676</td>\n",
       "      <td>0.052675</td>\n",
       "      <td>0.023084</td>\n",
       "      <td>0.012197</td>\n",
       "      <td>0.013971</td>\n",
       "      <td>0.175773</td>\n",
       "      <td>0.175773</td>\n",
       "    </tr>\n",
       "    <tr>\n",
       "      <th>Shell_weight</th>\n",
       "      <td>6.090638e+00</td>\n",
       "      <td>-0.051545</td>\n",
       "      <td>0.015015</td>\n",
       "      <td>0.012500</td>\n",
       "      <td>0.004764</td>\n",
       "      <td>0.065817</td>\n",
       "      <td>0.027574</td>\n",
       "      <td>0.013971</td>\n",
       "      <td>0.019552</td>\n",
       "      <td>0.280214</td>\n",
       "      <td>0.280214</td>\n",
       "    </tr>\n",
       "    <tr>\n",
       "      <th>Rings</th>\n",
       "      <td>-3.602912e+02</td>\n",
       "      <td>-0.936386</td>\n",
       "      <td>0.211883</td>\n",
       "      <td>0.180576</td>\n",
       "      <td>0.072905</td>\n",
       "      <td>0.847397</td>\n",
       "      <td>0.297735</td>\n",
       "      <td>0.175773</td>\n",
       "      <td>0.280214</td>\n",
       "      <td>10.275813</td>\n",
       "      <td>10.275813</td>\n",
       "    </tr>\n",
       "    <tr>\n",
       "      <th>Age</th>\n",
       "      <td>-3.602912e+02</td>\n",
       "      <td>-0.936386</td>\n",
       "      <td>0.211883</td>\n",
       "      <td>0.180576</td>\n",
       "      <td>0.072905</td>\n",
       "      <td>0.847397</td>\n",
       "      <td>0.297735</td>\n",
       "      <td>0.175773</td>\n",
       "      <td>0.280214</td>\n",
       "      <td>10.275813</td>\n",
       "      <td>10.275813</td>\n",
       "    </tr>\n",
       "  </tbody>\n",
       "</table>\n",
       "</div>"
      ],
      "text/plain": [
       "                          Id        Sex     Length  Diameter    Height  \\\n",
       "Id              1.434538e+06  43.525454  12.370774  8.692238  2.015762   \n",
       "Sex             4.352545e+01   0.680597  -0.044696 -0.037538 -0.014557   \n",
       "Length          1.237077e+01  -0.044696   0.014342  0.011685  0.004132   \n",
       "Diameter        8.692238e+00  -0.037538   0.011685  0.009780  0.003436   \n",
       "Height          2.015762e+00  -0.014557   0.004132  0.003436  0.001817   \n",
       "Whole_weight    3.728059e+01  -0.188214   0.054717  0.045159  0.016892   \n",
       "Shucked_weight  2.396248e+01  -0.081529   0.024109  0.019790  0.007280   \n",
       "Viscera_weight  8.570389e+00  -0.041391   0.011929  0.009809  0.003676   \n",
       "Shell_weight    6.090638e+00  -0.051545   0.015015  0.012500  0.004764   \n",
       "Rings          -3.602912e+02  -0.936386   0.211883  0.180576  0.072905   \n",
       "Age            -3.602912e+02  -0.936386   0.211883  0.180576  0.072905   \n",
       "\n",
       "                Whole_weight  Shucked_weight  Viscera_weight  Shell_weight  \\\n",
       "Id                 37.280594       23.962477        8.570389      6.090638   \n",
       "Sex                -0.188214       -0.081529       -0.041391     -0.051545   \n",
       "Length              0.054717        0.024109        0.011929      0.015015   \n",
       "Diameter            0.045159        0.019790        0.009809      0.012500   \n",
       "Height              0.016892        0.007280        0.003676      0.004764   \n",
       "Whole_weight        0.243827        0.107310        0.052675      0.065817   \n",
       "Shucked_weight      0.107310        0.050246        0.023084      0.027574   \n",
       "Viscera_weight      0.052675        0.023084        0.012197      0.013971   \n",
       "Shell_weight        0.065817        0.027574        0.013971      0.019552   \n",
       "Rings               0.847397        0.297735        0.175773      0.280214   \n",
       "Age                 0.847397        0.297735        0.175773      0.280214   \n",
       "\n",
       "                     Rings         Age  \n",
       "Id             -360.291183 -360.291183  \n",
       "Sex              -0.936386   -0.936386  \n",
       "Length            0.211883    0.211883  \n",
       "Diameter          0.180576    0.180576  \n",
       "Height            0.072905    0.072905  \n",
       "Whole_weight      0.847397    0.847397  \n",
       "Shucked_weight    0.297735    0.297735  \n",
       "Viscera_weight    0.175773    0.175773  \n",
       "Shell_weight      0.280214    0.280214  \n",
       "Rings            10.275813   10.275813  \n",
       "Age              10.275813   10.275813  "
      ]
     },
     "execution_count": 36,
     "metadata": {},
     "output_type": "execute_result"
    }
   ],
   "source": [
    "df_train.cov()"
   ]
  },
  {
   "cell_type": "markdown",
   "metadata": {},
   "source": [
    "##### Covariance indicates the direction of the linear relationship between variables.\n",
    "**Covariance can vary between -∞ and +∞**"
   ]
  },
  {
   "cell_type": "code",
   "execution_count": 37,
   "metadata": {},
   "outputs": [
    {
     "data": {
      "text/plain": [
       "<matplotlib.axes._subplots.AxesSubplot at 0xd37cd60>"
      ]
     },
     "execution_count": 37,
     "metadata": {},
     "output_type": "execute_result"
    },
    {
     "data": {
      "image/png": "[encoded data removed]",
      "text/plain": [
       "<Figure size 1008x1008 with 2 Axes>"
      ]
     },
     "metadata": {
      "needs_background": "light"
     },
     "output_type": "display_data"
    }
   ],
   "source": [
    "plt.figure(figsize=(14,14))\n",
    "sns.heatmap(df_train.cov(), annot = True)"
   ]
  },
  {
   "cell_type": "markdown",
   "metadata": {},
   "source": [
    "**Checking the correlation between the variables**"
   ]
  },
  {
   "cell_type": "code",
   "execution_count": 38,
   "metadata": {},
   "outputs": [
    {
     "data": {
      "text/html": [
       "<div>\n",
       "<style scoped>\n",
       "    .dataframe tbody tr th:only-of-type {\n",
       "        vertical-align: middle;\n",
       "    }\n",
       "\n",
       "    .dataframe tbody tr th {\n",
       "        vertical-align: top;\n",
       "    }\n",
       "\n",
       "    .dataframe thead th {\n",
       "        text-align: right;\n",
       "    }\n",
       "</style>\n",
       "<table border=\"1\" class=\"dataframe\">\n",
       "  <thead>\n",
       "    <tr style=\"text-align: right;\">\n",
       "      <th></th>\n",
       "      <th>Id</th>\n",
       "      <th>Sex</th>\n",
       "      <th>Length</th>\n",
       "      <th>Diameter</th>\n",
       "      <th>Height</th>\n",
       "      <th>Whole_weight</th>\n",
       "      <th>Shucked_weight</th>\n",
       "      <th>Viscera_weight</th>\n",
       "      <th>Shell_weight</th>\n",
       "      <th>Rings</th>\n",
       "      <th>Age</th>\n",
       "    </tr>\n",
       "  </thead>\n",
       "  <tbody>\n",
       "    <tr>\n",
       "      <th>Id</th>\n",
       "      <td>1.000000</td>\n",
       "      <td>0.044050</td>\n",
       "      <td>0.086245</td>\n",
       "      <td>0.073384</td>\n",
       "      <td>0.039486</td>\n",
       "      <td>0.063036</td>\n",
       "      <td>0.089253</td>\n",
       "      <td>0.064792</td>\n",
       "      <td>0.036367</td>\n",
       "      <td>-0.093840</td>\n",
       "      <td>-0.093840</td>\n",
       "    </tr>\n",
       "    <tr>\n",
       "      <th>Sex</th>\n",
       "      <td>0.044050</td>\n",
       "      <td>1.000000</td>\n",
       "      <td>-0.452393</td>\n",
       "      <td>-0.460103</td>\n",
       "      <td>-0.413996</td>\n",
       "      <td>-0.462026</td>\n",
       "      <td>-0.440873</td>\n",
       "      <td>-0.454288</td>\n",
       "      <td>-0.446839</td>\n",
       "      <td>-0.354080</td>\n",
       "      <td>-0.354080</td>\n",
       "    </tr>\n",
       "    <tr>\n",
       "      <th>Length</th>\n",
       "      <td>0.086245</td>\n",
       "      <td>-0.452393</td>\n",
       "      <td>1.000000</td>\n",
       "      <td>0.986626</td>\n",
       "      <td>0.809545</td>\n",
       "      <td>0.925283</td>\n",
       "      <td>0.898074</td>\n",
       "      <td>0.901923</td>\n",
       "      <td>0.896668</td>\n",
       "      <td>0.551926</td>\n",
       "      <td>0.551926</td>\n",
       "    </tr>\n",
       "    <tr>\n",
       "      <th>Diameter</th>\n",
       "      <td>0.073384</td>\n",
       "      <td>-0.460103</td>\n",
       "      <td>0.986626</td>\n",
       "      <td>1.000000</td>\n",
       "      <td>0.815144</td>\n",
       "      <td>0.924761</td>\n",
       "      <td>0.892732</td>\n",
       "      <td>0.898102</td>\n",
       "      <td>0.903953</td>\n",
       "      <td>0.569614</td>\n",
       "      <td>0.569614</td>\n",
       "    </tr>\n",
       "    <tr>\n",
       "      <th>Height</th>\n",
       "      <td>0.039486</td>\n",
       "      <td>-0.413996</td>\n",
       "      <td>0.809545</td>\n",
       "      <td>0.815144</td>\n",
       "      <td>1.000000</td>\n",
       "      <td>0.802585</td>\n",
       "      <td>0.761996</td>\n",
       "      <td>0.780910</td>\n",
       "      <td>0.799362</td>\n",
       "      <td>0.533590</td>\n",
       "      <td>0.533590</td>\n",
       "    </tr>\n",
       "    <tr>\n",
       "      <th>Whole_weight</th>\n",
       "      <td>0.063036</td>\n",
       "      <td>-0.462026</td>\n",
       "      <td>0.925283</td>\n",
       "      <td>0.924761</td>\n",
       "      <td>0.802585</td>\n",
       "      <td>1.000000</td>\n",
       "      <td>0.969501</td>\n",
       "      <td>0.965920</td>\n",
       "      <td>0.953238</td>\n",
       "      <td>0.535350</td>\n",
       "      <td>0.535350</td>\n",
       "    </tr>\n",
       "    <tr>\n",
       "      <th>Shucked_weight</th>\n",
       "      <td>0.089253</td>\n",
       "      <td>-0.440873</td>\n",
       "      <td>0.898074</td>\n",
       "      <td>0.892732</td>\n",
       "      <td>0.761996</td>\n",
       "      <td>0.969501</td>\n",
       "      <td>1.000000</td>\n",
       "      <td>0.932480</td>\n",
       "      <td>0.879739</td>\n",
       "      <td>0.414353</td>\n",
       "      <td>0.414353</td>\n",
       "    </tr>\n",
       "    <tr>\n",
       "      <th>Viscera_weight</th>\n",
       "      <td>0.064792</td>\n",
       "      <td>-0.454288</td>\n",
       "      <td>0.901923</td>\n",
       "      <td>0.898102</td>\n",
       "      <td>0.780910</td>\n",
       "      <td>0.965920</td>\n",
       "      <td>0.932480</td>\n",
       "      <td>1.000000</td>\n",
       "      <td>0.904726</td>\n",
       "      <td>0.496502</td>\n",
       "      <td>0.496502</td>\n",
       "    </tr>\n",
       "    <tr>\n",
       "      <th>Shell_weight</th>\n",
       "      <td>0.036367</td>\n",
       "      <td>-0.446839</td>\n",
       "      <td>0.896668</td>\n",
       "      <td>0.903953</td>\n",
       "      <td>0.799362</td>\n",
       "      <td>0.953238</td>\n",
       "      <td>0.879739</td>\n",
       "      <td>0.904726</td>\n",
       "      <td>1.000000</td>\n",
       "      <td>0.625154</td>\n",
       "      <td>0.625154</td>\n",
       "    </tr>\n",
       "    <tr>\n",
       "      <th>Rings</th>\n",
       "      <td>-0.093840</td>\n",
       "      <td>-0.354080</td>\n",
       "      <td>0.551926</td>\n",
       "      <td>0.569614</td>\n",
       "      <td>0.533590</td>\n",
       "      <td>0.535350</td>\n",
       "      <td>0.414353</td>\n",
       "      <td>0.496502</td>\n",
       "      <td>0.625154</td>\n",
       "      <td>1.000000</td>\n",
       "      <td>1.000000</td>\n",
       "    </tr>\n",
       "    <tr>\n",
       "      <th>Age</th>\n",
       "      <td>-0.093840</td>\n",
       "      <td>-0.354080</td>\n",
       "      <td>0.551926</td>\n",
       "      <td>0.569614</td>\n",
       "      <td>0.533590</td>\n",
       "      <td>0.535350</td>\n",
       "      <td>0.414353</td>\n",
       "      <td>0.496502</td>\n",
       "      <td>0.625154</td>\n",
       "      <td>1.000000</td>\n",
       "      <td>1.000000</td>\n",
       "    </tr>\n",
       "  </tbody>\n",
       "</table>\n",
       "</div>"
      ],
      "text/plain": [
       "                      Id       Sex    Length  Diameter    Height  \\\n",
       "Id              1.000000  0.044050  0.086245  0.073384  0.039486   \n",
       "Sex             0.044050  1.000000 -0.452393 -0.460103 -0.413996   \n",
       "Length          0.086245 -0.452393  1.000000  0.986626  0.809545   \n",
       "Diameter        0.073384 -0.460103  0.986626  1.000000  0.815144   \n",
       "Height          0.039486 -0.413996  0.809545  0.815144  1.000000   \n",
       "Whole_weight    0.063036 -0.462026  0.925283  0.924761  0.802585   \n",
       "Shucked_weight  0.089253 -0.440873  0.898074  0.892732  0.761996   \n",
       "Viscera_weight  0.064792 -0.454288  0.901923  0.898102  0.780910   \n",
       "Shell_weight    0.036367 -0.446839  0.896668  0.903953  0.799362   \n",
       "Rings          -0.093840 -0.354080  0.551926  0.569614  0.533590   \n",
       "Age            -0.093840 -0.354080  0.551926  0.569614  0.533590   \n",
       "\n",
       "                Whole_weight  Shucked_weight  Viscera_weight  Shell_weight  \\\n",
       "Id                  0.063036        0.089253        0.064792      0.036367   \n",
       "Sex                -0.462026       -0.440873       -0.454288     -0.446839   \n",
       "Length              0.925283        0.898074        0.901923      0.896668   \n",
       "Diameter            0.924761        0.892732        0.898102      0.903953   \n",
       "Height              0.802585        0.761996        0.780910      0.799362   \n",
       "Whole_weight        1.000000        0.969501        0.965920      0.953238   \n",
       "Shucked_weight      0.969501        1.000000        0.932480      0.879739   \n",
       "Viscera_weight      0.965920        0.932480        1.000000      0.904726   \n",
       "Shell_weight        0.953238        0.879739        0.904726      1.000000   \n",
       "Rings               0.535350        0.414353        0.496502      0.625154   \n",
       "Age                 0.535350        0.414353        0.496502      0.625154   \n",
       "\n",
       "                   Rings       Age  \n",
       "Id             -0.093840 -0.093840  \n",
       "Sex            -0.354080 -0.354080  \n",
       "Length          0.551926  0.551926  \n",
       "Diameter        0.569614  0.569614  \n",
       "Height          0.533590  0.533590  \n",
       "Whole_weight    0.535350  0.535350  \n",
       "Shucked_weight  0.414353  0.414353  \n",
       "Viscera_weight  0.496502  0.496502  \n",
       "Shell_weight    0.625154  0.625154  \n",
       "Rings           1.000000  1.000000  \n",
       "Age             1.000000  1.000000  "
      ]
     },
     "execution_count": 38,
     "metadata": {},
     "output_type": "execute_result"
    }
   ],
   "source": [
    "df_train.corr()"
   ]
  },
  {
   "cell_type": "markdown",
   "metadata": {},
   "source": [
    "##### Correlation on the other hand measures both the strength and direction of the linear relationship between two variables.\n",
    "**Correlation can vary between -1 and +1**"
   ]
  },
  {
   "cell_type": "code",
   "execution_count": 39,
   "metadata": {},
   "outputs": [
    {
     "data": {
      "text/plain": [
       "<matplotlib.axes._subplots.AxesSubplot at 0xb7890d0>"
      ]
     },
     "execution_count": 39,
     "metadata": {},
     "output_type": "execute_result"
    },
    {
     "data": {
      "image/png": "[encoded data removed]",
      "text/plain": [
       "<Figure size 1008x1008 with 2 Axes>"
      ]
     },
     "metadata": {
      "needs_background": "light"
     },
     "output_type": "display_data"
    }
   ],
   "source": [
    "plt.figure(figsize=(14,14))\n",
    "sns.heatmap(df_train.corr(), annot = True)"
   ]
  },
  {
   "cell_type": "markdown",
   "metadata": {},
   "source": [
    "# Linear Regression"
   ]
  },
  {
   "cell_type": "markdown",
   "metadata": {},
   "source": [
    "Linear regression is a basic and commonly used type of predictive analysis. The overall idea of regression is to examine two things:\n",
    "\n",
    "- Does a set of predictor variables do a good job in predicting an outcome (dependent) variable?\n",
    "- Which variables in particular are significant predictors of the outcome variable, and in what way they do impact the outcome variable?\n",
    "\n",
    "These regression estimates are used to explain the relationship between one dependent variable and one or more independent variables. The simplest form of the regression equation with one dependent and one independent variable is defined by the formula :\n",
    "**y=β0+β1x**\n",
    "\n",
    "What does each term represent?\n",
    "\n",
    "- y is the response \n",
    "- x is the feature\n",
    "- β0 is the intercept\n",
    "- β1 is the coefficient for x"
   ]
  },
  {
   "cell_type": "code",
   "execution_count": 40,
   "metadata": {},
   "outputs": [
    {
     "data": {
      "text/html": [
       "<div>\n",
       "<style scoped>\n",
       "    .dataframe tbody tr th:only-of-type {\n",
       "        vertical-align: middle;\n",
       "    }\n",
       "\n",
       "    .dataframe tbody tr th {\n",
       "        vertical-align: top;\n",
       "    }\n",
       "\n",
       "    .dataframe thead th {\n",
       "        text-align: right;\n",
       "    }\n",
       "</style>\n",
       "<table border=\"1\" class=\"dataframe\">\n",
       "  <thead>\n",
       "    <tr style=\"text-align: right;\">\n",
       "      <th></th>\n",
       "      <th>Id</th>\n",
       "      <th>Sex</th>\n",
       "      <th>Length</th>\n",
       "      <th>Diameter</th>\n",
       "      <th>Height</th>\n",
       "      <th>Whole_weight</th>\n",
       "      <th>Shucked_weight</th>\n",
       "      <th>Viscera_weight</th>\n",
       "      <th>Shell_weight</th>\n",
       "      <th>Rings</th>\n",
       "      <th>Age</th>\n",
       "    </tr>\n",
       "  </thead>\n",
       "  <tbody>\n",
       "    <tr>\n",
       "      <th>0</th>\n",
       "      <td>3141</td>\n",
       "      <td>2</td>\n",
       "      <td>0.180</td>\n",
       "      <td>0.135</td>\n",
       "      <td>0.080</td>\n",
       "      <td>0.0330</td>\n",
       "      <td>0.0145</td>\n",
       "      <td>0.0070</td>\n",
       "      <td>0.0100</td>\n",
       "      <td>5</td>\n",
       "      <td>6.5</td>\n",
       "    </tr>\n",
       "    <tr>\n",
       "      <th>1</th>\n",
       "      <td>3521</td>\n",
       "      <td>2</td>\n",
       "      <td>0.215</td>\n",
       "      <td>0.150</td>\n",
       "      <td>0.055</td>\n",
       "      <td>0.0410</td>\n",
       "      <td>0.0150</td>\n",
       "      <td>0.0090</td>\n",
       "      <td>0.0125</td>\n",
       "      <td>3</td>\n",
       "      <td>4.5</td>\n",
       "    </tr>\n",
       "    <tr>\n",
       "      <th>2</th>\n",
       "      <td>883</td>\n",
       "      <td>0</td>\n",
       "      <td>0.660</td>\n",
       "      <td>0.530</td>\n",
       "      <td>0.170</td>\n",
       "      <td>1.3905</td>\n",
       "      <td>0.5905</td>\n",
       "      <td>0.2120</td>\n",
       "      <td>0.4530</td>\n",
       "      <td>15</td>\n",
       "      <td>16.5</td>\n",
       "    </tr>\n",
       "    <tr>\n",
       "      <th>3</th>\n",
       "      <td>3627</td>\n",
       "      <td>0</td>\n",
       "      <td>0.715</td>\n",
       "      <td>0.525</td>\n",
       "      <td>0.200</td>\n",
       "      <td>1.8900</td>\n",
       "      <td>0.9500</td>\n",
       "      <td>0.4360</td>\n",
       "      <td>0.4305</td>\n",
       "      <td>10</td>\n",
       "      <td>11.5</td>\n",
       "    </tr>\n",
       "    <tr>\n",
       "      <th>4</th>\n",
       "      <td>2106</td>\n",
       "      <td>0</td>\n",
       "      <td>0.595</td>\n",
       "      <td>0.455</td>\n",
       "      <td>0.155</td>\n",
       "      <td>1.0410</td>\n",
       "      <td>0.4160</td>\n",
       "      <td>0.2105</td>\n",
       "      <td>0.3650</td>\n",
       "      <td>14</td>\n",
       "      <td>15.5</td>\n",
       "    </tr>\n",
       "  </tbody>\n",
       "</table>\n",
       "</div>"
      ],
      "text/plain": [
       "     Id  Sex  Length  Diameter  Height  Whole_weight  Shucked_weight  \\\n",
       "0  3141    2   0.180     0.135   0.080        0.0330          0.0145   \n",
       "1  3521    2   0.215     0.150   0.055        0.0410          0.0150   \n",
       "2   883    0   0.660     0.530   0.170        1.3905          0.5905   \n",
       "3  3627    0   0.715     0.525   0.200        1.8900          0.9500   \n",
       "4  2106    0   0.595     0.455   0.155        1.0410          0.4160   \n",
       "\n",
       "   Viscera_weight  Shell_weight  Rings   Age  \n",
       "0          0.0070        0.0100      5   6.5  \n",
       "1          0.0090        0.0125      3   4.5  \n",
       "2          0.2120        0.4530     15  16.5  \n",
       "3          0.4360        0.4305     10  11.5  \n",
       "4          0.2105        0.3650     14  15.5  "
      ]
     },
     "execution_count": 40,
     "metadata": {},
     "output_type": "execute_result"
    }
   ],
   "source": [
    "df_train.head()"
   ]
  },
  {
   "cell_type": "code",
   "execution_count": 41,
   "metadata": {},
   "outputs": [
    {
     "data": {
      "text/plain": [
       "Index(['Id', 'Sex', 'Length', 'Diameter', 'Height', 'Whole_weight',\n",
       "       'Shucked_weight', 'Viscera_weight', 'Shell_weight', 'Rings', 'Age'],\n",
       "      dtype='object')"
      ]
     },
     "execution_count": 41,
     "metadata": {},
     "output_type": "execute_result"
    }
   ],
   "source": [
    "df_train.columns"
   ]
  },
  {
   "cell_type": "markdown",
   "metadata": {},
   "source": [
    "### Preparing X and y using pandas"
   ]
  },
  {
   "cell_type": "code",
   "execution_count": 42,
   "metadata": {},
   "outputs": [],
   "source": [
    "feature_cols = ['Id', 'Sex', 'Length', 'Diameter', 'Height', 'Whole_weight',\n",
    "       'Shucked_weight', 'Viscera_weight', 'Shell_weight', 'Rings', 'Age']                 \n",
    "X = df_train[feature_cols]"
   ]
  },
  {
   "cell_type": "code",
   "execution_count": 45,
   "metadata": {},
   "outputs": [
    {
     "data": {
      "text/html": [
       "<div>\n",
       "<style scoped>\n",
       "    .dataframe tbody tr th:only-of-type {\n",
       "        vertical-align: middle;\n",
       "    }\n",
       "\n",
       "    .dataframe tbody tr th {\n",
       "        vertical-align: top;\n",
       "    }\n",
       "\n",
       "    .dataframe thead th {\n",
       "        text-align: right;\n",
       "    }\n",
       "</style>\n",
       "<table border=\"1\" class=\"dataframe\">\n",
       "  <thead>\n",
       "    <tr style=\"text-align: right;\">\n",
       "      <th></th>\n",
       "      <th>Id</th>\n",
       "      <th>Sex</th>\n",
       "      <th>Length</th>\n",
       "      <th>Diameter</th>\n",
       "      <th>Height</th>\n",
       "      <th>Whole_weight</th>\n",
       "      <th>Shucked_weight</th>\n",
       "      <th>Viscera_weight</th>\n",
       "      <th>Shell_weight</th>\n",
       "      <th>Rings</th>\n",
       "      <th>Age</th>\n",
       "    </tr>\n",
       "  </thead>\n",
       "  <tbody>\n",
       "    <tr>\n",
       "      <th>0</th>\n",
       "      <td>3141</td>\n",
       "      <td>2</td>\n",
       "      <td>0.180</td>\n",
       "      <td>0.135</td>\n",
       "      <td>0.080</td>\n",
       "      <td>0.0330</td>\n",
       "      <td>0.0145</td>\n",
       "      <td>0.0070</td>\n",
       "      <td>0.0100</td>\n",
       "      <td>5</td>\n",
       "      <td>6.5</td>\n",
       "    </tr>\n",
       "    <tr>\n",
       "      <th>1</th>\n",
       "      <td>3521</td>\n",
       "      <td>2</td>\n",
       "      <td>0.215</td>\n",
       "      <td>0.150</td>\n",
       "      <td>0.055</td>\n",
       "      <td>0.0410</td>\n",
       "      <td>0.0150</td>\n",
       "      <td>0.0090</td>\n",
       "      <td>0.0125</td>\n",
       "      <td>3</td>\n",
       "      <td>4.5</td>\n",
       "    </tr>\n",
       "    <tr>\n",
       "      <th>2</th>\n",
       "      <td>883</td>\n",
       "      <td>0</td>\n",
       "      <td>0.660</td>\n",
       "      <td>0.530</td>\n",
       "      <td>0.170</td>\n",
       "      <td>1.3905</td>\n",
       "      <td>0.5905</td>\n",
       "      <td>0.2120</td>\n",
       "      <td>0.4530</td>\n",
       "      <td>15</td>\n",
       "      <td>16.5</td>\n",
       "    </tr>\n",
       "    <tr>\n",
       "      <th>3</th>\n",
       "      <td>3627</td>\n",
       "      <td>0</td>\n",
       "      <td>0.715</td>\n",
       "      <td>0.525</td>\n",
       "      <td>0.200</td>\n",
       "      <td>1.8900</td>\n",
       "      <td>0.9500</td>\n",
       "      <td>0.4360</td>\n",
       "      <td>0.4305</td>\n",
       "      <td>10</td>\n",
       "      <td>11.5</td>\n",
       "    </tr>\n",
       "    <tr>\n",
       "      <th>4</th>\n",
       "      <td>2106</td>\n",
       "      <td>0</td>\n",
       "      <td>0.595</td>\n",
       "      <td>0.455</td>\n",
       "      <td>0.155</td>\n",
       "      <td>1.0410</td>\n",
       "      <td>0.4160</td>\n",
       "      <td>0.2105</td>\n",
       "      <td>0.3650</td>\n",
       "      <td>14</td>\n",
       "      <td>15.5</td>\n",
       "    </tr>\n",
       "  </tbody>\n",
       "</table>\n",
       "</div>"
      ],
      "text/plain": [
       "     Id  Sex  Length  Diameter  Height  Whole_weight  Shucked_weight  \\\n",
       "0  3141    2   0.180     0.135   0.080        0.0330          0.0145   \n",
       "1  3521    2   0.215     0.150   0.055        0.0410          0.0150   \n",
       "2   883    0   0.660     0.530   0.170        1.3905          0.5905   \n",
       "3  3627    0   0.715     0.525   0.200        1.8900          0.9500   \n",
       "4  2106    0   0.595     0.455   0.155        1.0410          0.4160   \n",
       "\n",
       "   Viscera_weight  Shell_weight  Rings   Age  \n",
       "0          0.0070        0.0100      5   6.5  \n",
       "1          0.0090        0.0125      3   4.5  \n",
       "2          0.2120        0.4530     15  16.5  \n",
       "3          0.4360        0.4305     10  11.5  \n",
       "4          0.2105        0.3650     14  15.5  "
      ]
     },
     "execution_count": 45,
     "metadata": {},
     "output_type": "execute_result"
    }
   ],
   "source": [
    "X=df_train[feature_cols]\n",
    "X.head()"
   ]
  },
  {
   "cell_type": "code",
   "execution_count": 46,
   "metadata": {},
   "outputs": [
    {
     "name": "stdout",
     "output_type": "stream",
     "text": [
      "<class 'pandas.core.frame.DataFrame'>\n",
      "(3341, 11)\n"
     ]
    }
   ],
   "source": [
    "print(type(X))\n",
    "print(X.shape)"
   ]
  },
  {
   "cell_type": "code",
   "execution_count": 47,
   "metadata": {},
   "outputs": [],
   "source": [
    "y = df_train['Rings']"
   ]
  },
  {
   "cell_type": "code",
   "execution_count": 48,
   "metadata": {},
   "outputs": [
    {
     "data": {
      "text/plain": [
       "0     5\n",
       "1     3\n",
       "2    15\n",
       "3    10\n",
       "4    14\n",
       "Name: Rings, dtype: int64"
      ]
     },
     "execution_count": 48,
     "metadata": {},
     "output_type": "execute_result"
    }
   ],
   "source": [
    "y.head()"
   ]
  },
  {
   "cell_type": "code",
   "execution_count": 49,
   "metadata": {},
   "outputs": [
    {
     "name": "stdout",
     "output_type": "stream",
     "text": [
      "<class 'pandas.core.series.Series'>\n",
      "(3341,)\n"
     ]
    }
   ],
   "source": [
    "print(type(y))\n",
    "print(y.shape)"
   ]
  },
  {
   "cell_type": "markdown",
   "metadata": {},
   "source": [
    "#### Splitting X and y into training and test datasets."
   ]
  },
  {
   "cell_type": "code",
   "execution_count": 61,
   "metadata": {},
   "outputs": [],
   "source": [
    "from sklearn.model_selection import train_test_split \n",
    "X_train, X_test, y_train, y_test = train_test_split(X, y, test_size = 0.25, random_state=0)\n"
   ]
  },
  {
   "cell_type": "code",
   "execution_count": 62,
   "metadata": {},
   "outputs": [
    {
     "data": {
      "text/plain": [
       "<bound method DataFrame.from_records of <class 'pandas.core.frame.DataFrame'>>"
      ]
     },
     "execution_count": 62,
     "metadata": {},
     "output_type": "execute_result"
    }
   ],
   "source": [
    "pd.DataFrame.from_records"
   ]
  },
  {
   "cell_type": "code",
   "execution_count": 63,
   "metadata": {},
   "outputs": [],
   "source": [
    "from sklearn import linear_model as lm\n",
    "model = lm.LinearRegression()\n",
    "results = model.fit(X_train, y_train)"
   ]
  },
  {
   "cell_type": "code",
   "execution_count": 64,
   "metadata": {},
   "outputs": [
    {
     "data": {
      "text/plain": [
       "1.0"
      ]
     },
     "execution_count": 64,
     "metadata": {},
     "output_type": "execute_result"
    }
   ],
   "source": [
    "accuracy = model.score(X_train, y_train)\n",
    "accuracy"
   ]
  },
  {
   "cell_type": "code",
   "execution_count": 65,
   "metadata": {},
   "outputs": [
    {
     "data": {
      "text/plain": [
       "array([ 7.,  7., 11., 11., 12., 18., 10.,  8.,  7., 10., 12., 11., 13.,\n",
       "        9.,  8., 10.,  8.,  9., 14.,  9., 10.,  8., 10., 11., 12., 14.,\n",
       "        7.,  6.,  7.,  8., 12.,  9., 12.,  6., 11.,  9., 11., 10., 13.,\n",
       "       12.,  9., 10.,  7., 12.,  9.,  8., 16.,  8.,  5.,  9.,  6., 11.,\n",
       "       11., 14.,  8., 12.,  4., 13., 11.,  8., 10., 10.,  9.,  9., 11.,\n",
       "       11.,  7.,  6., 11.,  8., 11.,  8.,  6.,  9., 10., 11., 11., 12.,\n",
       "        9.,  6., 10., 17.,  8.,  8., 11.,  7., 10.,  7.,  9.,  6., 12.,\n",
       "       10.,  7., 11., 11.,  8., 13.,  3., 11.,  6.,  8.,  5.,  9., 14.,\n",
       "       11., 11.,  7.,  8., 10., 10., 15., 14., 12., 12.,  9., 15.,  8.,\n",
       "        8.,  8.,  5.,  8.,  9.,  8.,  7.,  4.,  7.,  7., 10., 10., 14.,\n",
       "        8., 10., 15.,  9.,  9., 13.,  9.,  9., 14., 16., 12.,  7.,  9.,\n",
       "       11.,  8., 15.,  7., 12.,  4.,  6.,  9.,  8.,  6., 11., 16., 10.,\n",
       "        9., 15., 12., 12., 10., 11.,  9., 10.,  6., 10., 13.,  9., 10.,\n",
       "       10.,  9.,  7., 11.,  7., 16.,  7., 11.,  9., 10.,  9.,  6.,  6.,\n",
       "       10.,  9.,  9.,  5.,  7., 15.,  5., 11., 15.,  8., 10.,  9., 14.,\n",
       "        7.,  8., 12.,  9., 10., 10., 14., 15., 11., 14., 14., 16., 10.,\n",
       "       15., 13., 10., 10.,  9.,  7., 15.,  8.,  5., 11., 10.,  9.,  7.,\n",
       "        8., 16.,  6.,  5.,  7., 11.,  5.,  9.,  6.,  7.,  9.,  9.,  8.,\n",
       "       18.,  9., 16.,  6., 17., 11., 14., 10., 15., 10.,  7., 12.,  6.,\n",
       "        7., 10., 10., 16., 11., 13., 15., 19., 10.,  8.,  8.,  8., 11.,\n",
       "       10.,  7., 20., 10.,  8.,  8.,  6., 10., 14., 13.,  7.,  7.,  8.,\n",
       "       12., 11.,  3., 11., 10., 11., 15.,  6., 10.,  5.,  7., 10., 13.,\n",
       "       10.,  6., 11., 10., 10.,  8.,  9.,  9.,  8., 10., 10.,  8., 10.,\n",
       "       11.,  8.,  9., 11., 11.,  9., 10.,  9.,  7., 10., 15., 11., 11.,\n",
       "        6.,  9.,  9.,  6., 17., 13., 10.,  8.,  7., 11.,  9.,  8.,  8.,\n",
       "        8.,  6., 10.,  6.,  7.,  8., 10., 12., 10., 12.,  8.,  9.,  6.,\n",
       "       12., 10.,  7.,  9.,  9., 10., 11., 10., 10.,  9.,  9.,  9.,  7.,\n",
       "       11., 16., 15.,  7., 10., 11., 11.,  4., 10., 10., 20., 12.,  7.,\n",
       "        8.,  9.,  7.,  9.,  6.,  6.,  9.,  8.,  8., 10., 10.,  6., 19.,\n",
       "       12.,  9., 12.,  8.,  9., 15.,  9., 10.,  9., 10., 12.,  4., 10.,\n",
       "        9.,  7., 12.,  9., 15., 12., 13.,  3., 12.,  7., 10.,  8.,  7.,\n",
       "        9.,  5., 10.,  8.,  9.,  9., 12., 12.,  5.,  7., 12.,  9., 14.,\n",
       "       11.,  8.,  8.,  8., 12., 15., 13., 13., 12., 10.,  9.,  5.,  8.,\n",
       "       13.,  6., 11., 10., 14.,  8., 13., 10.,  9.,  8., 13., 10.,  8.,\n",
       "        6., 11., 12.,  7., 10., 12.,  8., 10.,  8., 10., 14.,  8.,  9.,\n",
       "        6.,  9.,  6.,  7.,  8., 10., 10.,  7., 11.,  9., 11.,  9.,  5.,\n",
       "        4., 13., 10.,  8.,  9.,  9., 13., 13.,  8.,  9.,  9., 15.,  8.,\n",
       "        8., 11., 10.,  8.,  9.,  8., 13., 11., 11., 16.,  9.,  8.,  7.,\n",
       "       13.,  9., 12., 11., 10.,  7., 10., 11., 10., 12., 12.,  4.,  6.,\n",
       "       10., 11.,  9.,  8., 14.,  9., 15., 10.,  8., 11., 11., 11.,  8.,\n",
       "       10.,  8.,  8., 18.,  9.,  8., 17.,  9.,  4.,  7., 11.,  9.,  9.,\n",
       "        8.,  8., 10.,  6.,  9., 10., 10.,  9., 10., 10.,  8., 10.,  4.,\n",
       "       13., 10., 11., 21., 16.,  7., 10.,  6., 12., 10.,  8.,  8., 11.,\n",
       "       13.,  9., 11., 12., 10., 14.,  5.,  4., 17., 15.,  9., 11., 14.,\n",
       "       10., 10., 11., 11.,  7.,  8.,  7., 12.,  8., 11., 10., 10., 10.,\n",
       "       11., 19.,  8., 11., 10.,  8.,  7.,  8.,  7.,  7., 12.,  8.,  9.,\n",
       "       12., 15., 10., 19., 14., 16.,  9., 10.,  7.,  8.,  6.,  9., 10.,\n",
       "       11.,  7., 10.,  9.,  9.,  8., 10.,  7., 10.,  9., 12.,  4., 11.,\n",
       "        8., 12., 12.,  6.,  6., 17., 10.,  6., 12.,  9.,  8., 11., 10.,\n",
       "        6., 10., 10.,  8.,  7., 17.,  9., 13., 10.,  9., 11., 11.,  8.,\n",
       "        6.,  9.,  9., 10., 14.,  8.,  8.,  9.,  6., 10., 12.,  9.,  6.,\n",
       "        6., 10.,  8.,  7.,  8., 10., 17.,  9., 14.,  9.,  8., 20., 12.,\n",
       "       12.,  8.,  9., 11.,  9.,  9.,  8., 10.,  9.,  8., 10., 10., 13.,\n",
       "       14., 16.,  9.,  7.,  9., 21., 20., 10.,  9.,  6.,  9.,  7.,  9.,\n",
       "       10.,  4., 10.,  9.,  9.,  9.,  9.,  8., 10.,  9., 11.,  9.,  8.,\n",
       "        7.,  5.,  5.,  5., 12.,  6., 12., 10., 11., 11.,  7., 11.,  8.,\n",
       "        9., 11.,  6.,  6., 11.,  8., 10., 11.,  9.,  8.,  8., 13., 11.,\n",
       "        8., 11.,  9.,  8.,  8., 13., 10., 11., 10.,  7.,  6.,  7.,  8.,\n",
       "        8., 13.,  7., 10., 14.,  7., 12.,  9., 11.,  9.,  9.,  8., 17.,\n",
       "        7., 10., 18., 11., 11.,  7.,  9.,  7., 11., 10., 10.,  7., 23.,\n",
       "       13.,  7.,  9.,  8.,  9.,  9.,  8., 12., 13., 12., 10.,  9., 10.,\n",
       "       13.,  9.,  7.,  5., 11., 11., 11.,  5., 13., 17., 13., 11.,  7.,\n",
       "        9.,  7., 10.,  9.,  9., 15.,  5., 25., 10.,  8., 11., 11., 15.,\n",
       "       10., 13.,  8., 10., 12.,  6., 10., 12.,  6., 13.,  7., 10., 10.,\n",
       "        9., 10., 10.,  7.])"
      ]
     },
     "execution_count": 65,
     "metadata": {},
     "output_type": "execute_result"
    }
   ],
   "source": [
    "pred = model.predict(X_test)\n",
    "pred"
   ]
  },
  {
   "cell_type": "code",
   "execution_count": 66,
   "metadata": {},
   "outputs": [
    {
     "data": {
      "text/plain": [
       "2709     7\n",
       "2748     7\n",
       "2436    11\n",
       "92      11\n",
       "569     12\n",
       "465     18\n",
       "1757    10\n",
       "3172     8\n",
       "1256     7\n",
       "1138    10\n",
       "Name: Rings, dtype: int64"
      ]
     },
     "execution_count": 66,
     "metadata": {},
     "output_type": "execute_result"
    }
   ],
   "source": [
    "y_test.head(10)"
   ]
  },
  {
   "cell_type": "code",
   "execution_count": 67,
   "metadata": {},
   "outputs": [
    {
     "data": {
      "text/plain": [
       "<matplotlib.collections.PathCollection at 0xd3b5cd0>"
      ]
     },
     "execution_count": 67,
     "metadata": {},
     "output_type": "execute_result"
    },
    {
     "data": {
      "image/png": "[encoded data removed]",
      "text/plain": [
       "<Figure size 432x288 with 1 Axes>"
      ]
     },
     "metadata": {
      "needs_background": "light"
     },
     "output_type": "display_data"
    }
   ],
   "source": [
    "import matplotlib.pyplot as plt\n",
    "plt.scatter(y_test, pred)"
   ]
  },
  {
   "cell_type": "code",
   "execution_count": 68,
   "metadata": {},
   "outputs": [
    {
     "data": {
      "text/plain": [
       "array([ 7.,  7., 11., 11., 12., 18., 10.,  8.,  7., 10., 12., 11., 13.,\n",
       "        9.,  8., 10.,  8.,  9., 14.,  9., 10.,  8., 10., 11., 12., 14.,\n",
       "        7.,  6.,  7.,  8., 12.,  9., 12.,  6., 11.,  9., 11., 10., 13.,\n",
       "       12.,  9., 10.,  7., 12.,  9.,  8., 16.,  8.,  5.,  9.,  6., 11.,\n",
       "       11., 14.,  8., 12.,  4., 13., 11.,  8., 10., 10.,  9.,  9., 11.,\n",
       "       11.,  7.,  6., 11.,  8., 11.,  8.,  6.,  9., 10., 11., 11., 12.,\n",
       "        9.,  6., 10., 17.,  8.,  8., 11.,  7., 10.,  7.,  9.,  6., 12.,\n",
       "       10.,  7., 11., 11.,  8., 13.,  3., 11.,  6.,  8.,  5.,  9., 14.,\n",
       "       11., 11.,  7.,  8., 10., 10., 15., 14., 12., 12.,  9., 15.,  8.,\n",
       "        8.,  8.,  5.,  8.,  9.,  8.,  7.,  4.,  7.,  7., 10., 10., 14.,\n",
       "        8., 10., 15.,  9.,  9., 13.,  9.,  9., 14., 16., 12.,  7.,  9.,\n",
       "       11.,  8., 15.,  7., 12.,  4.,  6.,  9.,  8.,  6., 11., 16., 10.,\n",
       "        9., 15., 12., 12., 10., 11.,  9., 10.,  6., 10., 13.,  9., 10.,\n",
       "       10.,  9.,  7., 11.,  7., 16.,  7., 11.,  9., 10.,  9.,  6.,  6.,\n",
       "       10.,  9.,  9.,  5.,  7., 15.,  5., 11., 15.,  8., 10.,  9., 14.,\n",
       "        7.,  8., 12.,  9., 10., 10., 14., 15., 11., 14., 14., 16., 10.,\n",
       "       15., 13., 10., 10.,  9.,  7., 15.,  8.,  5., 11., 10.,  9.,  7.,\n",
       "        8., 16.,  6.,  5.,  7., 11.,  5.,  9.,  6.,  7.,  9.,  9.,  8.,\n",
       "       18.,  9., 16.,  6., 17., 11., 14., 10., 15., 10.,  7., 12.,  6.,\n",
       "        7., 10., 10., 16., 11., 13., 15., 19., 10.,  8.,  8.,  8., 11.,\n",
       "       10.,  7., 20., 10.,  8.,  8.,  6., 10., 14., 13.,  7.,  7.,  8.,\n",
       "       12., 11.,  3., 11., 10., 11., 15.,  6., 10.,  5.,  7., 10., 13.,\n",
       "       10.,  6., 11., 10., 10.,  8.,  9.,  9.,  8., 10., 10.,  8., 10.,\n",
       "       11.,  8.,  9., 11., 11.,  9., 10.,  9.,  7., 10., 15., 11., 11.,\n",
       "        6.,  9.,  9.,  6., 17., 13., 10.,  8.,  7., 11.,  9.,  8.,  8.,\n",
       "        8.,  6., 10.,  6.,  7.,  8., 10., 12., 10., 12.,  8.,  9.,  6.,\n",
       "       12., 10.,  7.,  9.,  9., 10., 11., 10., 10.,  9.,  9.,  9.,  7.,\n",
       "       11., 16., 15.,  7., 10., 11., 11.,  4., 10., 10., 20., 12.,  7.,\n",
       "        8.,  9.,  7.,  9.,  6.,  6.,  9.,  8.,  8., 10., 10.,  6., 19.,\n",
       "       12.,  9., 12.,  8.,  9., 15.,  9., 10.,  9., 10., 12.,  4., 10.,\n",
       "        9.,  7., 12.,  9., 15., 12., 13.,  3., 12.,  7., 10.,  8.,  7.,\n",
       "        9.,  5., 10.,  8.,  9.,  9., 12., 12.,  5.,  7., 12.,  9., 14.,\n",
       "       11.,  8.,  8.,  8., 12., 15., 13., 13., 12., 10.,  9.,  5.,  8.,\n",
       "       13.,  6., 11., 10., 14.,  8., 13., 10.,  9.,  8., 13., 10.,  8.,\n",
       "        6., 11., 12.,  7., 10., 12.,  8., 10.,  8., 10., 14.,  8.,  9.,\n",
       "        6.,  9.,  6.,  7.,  8., 10., 10.,  7., 11.,  9., 11.,  9.,  5.,\n",
       "        4., 13., 10.,  8.,  9.,  9., 13., 13.,  8.,  9.,  9., 15.,  8.,\n",
       "        8., 11., 10.,  8.,  9.,  8., 13., 11., 11., 16.,  9.,  8.,  7.,\n",
       "       13.,  9., 12., 11., 10.,  7., 10., 11., 10., 12., 12.,  4.,  6.,\n",
       "       10., 11.,  9.,  8., 14.,  9., 15., 10.,  8., 11., 11., 11.,  8.,\n",
       "       10.,  8.,  8., 18.,  9.,  8., 17.,  9.,  4.,  7., 11.,  9.,  9.,\n",
       "        8.,  8., 10.,  6.,  9., 10., 10.,  9., 10., 10.,  8., 10.,  4.,\n",
       "       13., 10., 11., 21., 16.,  7., 10.,  6., 12., 10.,  8.,  8., 11.,\n",
       "       13.,  9., 11., 12., 10., 14.,  5.,  4., 17., 15.,  9., 11., 14.,\n",
       "       10., 10., 11., 11.,  7.,  8.,  7., 12.,  8., 11., 10., 10., 10.,\n",
       "       11., 19.,  8., 11., 10.,  8.,  7.,  8.,  7.,  7., 12.,  8.,  9.,\n",
       "       12., 15., 10., 19., 14., 16.,  9., 10.,  7.,  8.,  6.,  9., 10.,\n",
       "       11.,  7., 10.,  9.,  9.,  8., 10.,  7., 10.,  9., 12.,  4., 11.,\n",
       "        8., 12., 12.,  6.,  6., 17., 10.,  6., 12.,  9.,  8., 11., 10.,\n",
       "        6., 10., 10.,  8.,  7., 17.,  9., 13., 10.,  9., 11., 11.,  8.,\n",
       "        6.,  9.,  9., 10., 14.,  8.,  8.,  9.,  6., 10., 12.,  9.,  6.,\n",
       "        6., 10.,  8.,  7.,  8., 10., 17.,  9., 14.,  9.,  8., 20., 12.,\n",
       "       12.,  8.,  9., 11.,  9.,  9.,  8., 10.,  9.,  8., 10., 10., 13.,\n",
       "       14., 16.,  9.,  7.,  9., 21., 20., 10.,  9.,  6.,  9.,  7.,  9.,\n",
       "       10.,  4., 10.,  9.,  9.,  9.,  9.,  8., 10.,  9., 11.,  9.,  8.,\n",
       "        7.,  5.,  5.,  5., 12.,  6., 12., 10., 11., 11.,  7., 11.,  8.,\n",
       "        9., 11.,  6.,  6., 11.,  8., 10., 11.,  9.,  8.,  8., 13., 11.,\n",
       "        8., 11.,  9.,  8.,  8., 13., 10., 11., 10.,  7.,  6.,  7.,  8.,\n",
       "        8., 13.,  7., 10., 14.,  7., 12.,  9., 11.,  9.,  9.,  8., 17.,\n",
       "        7., 10., 18., 11., 11.,  7.,  9.,  7., 11., 10., 10.,  7., 23.,\n",
       "       13.,  7.,  9.,  8.,  9.,  9.,  8., 12., 13., 12., 10.,  9., 10.,\n",
       "       13.,  9.,  7.,  5., 11., 11., 11.,  5., 13., 17., 13., 11.,  7.,\n",
       "        9.,  7., 10.,  9.,  9., 15.,  5., 25., 10.,  8., 11., 11., 15.,\n",
       "       10., 13.,  8., 10., 12.,  6., 10., 12.,  6., 13.,  7., 10., 10.,\n",
       "        9., 10., 10.,  7.])"
      ]
     },
     "execution_count": 68,
     "metadata": {},
     "output_type": "execute_result"
    }
   ],
   "source": [
    "predictions =model.predict(X_test)\n",
    "predictions"
   ]
  },
  {
   "cell_type": "code",
   "execution_count": 70,
   "metadata": {},
   "outputs": [
    {
     "data": {
      "text/plain": [
       "-0.7499999999999822"
      ]
     },
     "execution_count": 70,
     "metadata": {},
     "output_type": "execute_result"
    }
   ],
   "source": [
    "model.intercept_"
   ]
  },
  {
   "cell_type": "code",
   "execution_count": 71,
   "metadata": {},
   "outputs": [
    {
     "data": {
      "text/plain": [
       "array([-1.53426661e-18,  3.33066907e-16, -7.49747486e-15,  3.09301196e-15,\n",
       "        1.08563332e-14, -1.78329573e-15, -9.43689571e-16,  2.78076173e-15,\n",
       "        5.37243861e-15,  5.00000000e-01,  5.00000000e-01])"
      ]
     },
     "execution_count": 71,
     "metadata": {},
     "output_type": "execute_result"
    }
   ],
   "source": [
    "model.coef_"
   ]
  },
  {
   "cell_type": "code",
   "execution_count": 72,
   "metadata": {},
   "outputs": [
    {
     "data": {
      "text/plain": [
       "['Intercept',\n",
       " 'Id',\n",
       " 'Sex',\n",
       " 'Length',\n",
       " 'Diameter',\n",
       " 'Height',\n",
       " 'Whole_weight',\n",
       " 'Shucked_weight',\n",
       " 'Viscera_weight',\n",
       " 'Shell_weight',\n",
       " 'Rings',\n",
       " 'Age']"
      ]
     },
     "execution_count": 72,
     "metadata": {},
     "output_type": "execute_result"
    }
   ],
   "source": [
    "feature_cols.insert(0,'Intercept')\n",
    "feature_cols"
   ]
  },
  {
   "cell_type": "code",
   "execution_count": 73,
   "metadata": {},
   "outputs": [
    {
     "data": {
      "text/plain": [
       "[-1.5342666073137014e-18,\n",
       " 3.3306690738754696e-16,\n",
       " -7.49747486317176e-15,\n",
       " 3.093011957666647e-15,\n",
       " 1.0856333193531853e-14,\n",
       " -1.7832957333041577e-15,\n",
       " -9.43689570931383e-16,\n",
       " 2.7807617319908218e-15,\n",
       " 5.3724386051001716e-15,\n",
       " 0.49999999999999933,\n",
       " 0.4999999999999993]"
      ]
     },
     "execution_count": 73,
     "metadata": {},
     "output_type": "execute_result"
    }
   ],
   "source": [
    "coef = model.coef_.tolist()\n",
    "coef"
   ]
  },
  {
   "cell_type": "code",
   "execution_count": 74,
   "metadata": {},
   "outputs": [
    {
     "data": {
      "text/plain": [
       "[-0.7499999999999822,\n",
       " -1.5342666073137014e-18,\n",
       " 3.3306690738754696e-16,\n",
       " -7.49747486317176e-15,\n",
       " 3.093011957666647e-15,\n",
       " 1.0856333193531853e-14,\n",
       " -1.7832957333041577e-15,\n",
       " -9.43689570931383e-16,\n",
       " 2.7807617319908218e-15,\n",
       " 5.3724386051001716e-15,\n",
       " 0.49999999999999933,\n",
       " 0.4999999999999993]"
      ]
     },
     "execution_count": 74,
     "metadata": {},
     "output_type": "execute_result"
    }
   ],
   "source": [
    "coef.insert(0, model.intercept_)\n",
    "coef"
   ]
  },
  {
   "cell_type": "code",
   "execution_count": 75,
   "metadata": {},
   "outputs": [
    {
     "name": "stdout",
     "output_type": "stream",
     "text": [
      "Intercept -0.7499999999999822\n",
      "Id -1.5342666073137014e-18\n",
      "Sex 3.3306690738754696e-16\n",
      "Length -7.49747486317176e-15\n",
      "Diameter 3.093011957666647e-15\n",
      "Height 1.0856333193531853e-14\n",
      "Whole_weight -1.7832957333041577e-15\n",
      "Shucked_weight -9.43689570931383e-16\n",
      "Viscera_weight 2.7807617319908218e-15\n",
      "Shell_weight 5.3724386051001716e-15\n",
      "Rings 0.49999999999999933\n",
      "Age 0.4999999999999993\n"
     ]
    }
   ],
   "source": [
    "eq1 = zip(feature_cols, coef)\n",
    "\n",
    "for c1,c2 in eq1:\n",
    "    print(c1,c2)"
   ]
  },
  {
   "cell_type": "code",
   "execution_count": 76,
   "metadata": {},
   "outputs": [],
   "source": [
    "y_pred_train = model.predict(X_train)"
   ]
  },
  {
   "cell_type": "code",
   "execution_count": 77,
   "metadata": {},
   "outputs": [],
   "source": [
    "y_pred_test = model.predict(X_test)"
   ]
  },
  {
   "cell_type": "code",
   "execution_count": 78,
   "metadata": {},
   "outputs": [
    {
     "data": {
      "text/plain": [
       "array([ 5., 16., 17., ..., 10., 20., 19.])"
      ]
     },
     "execution_count": 78,
     "metadata": {},
     "output_type": "execute_result"
    }
   ],
   "source": [
    "y_pred_train"
   ]
  },
  {
   "cell_type": "code",
   "execution_count": 79,
   "metadata": {},
   "outputs": [
    {
     "data": {
      "text/plain": [
       "array([ 7.,  7., 11., 11., 12., 18., 10.,  8.,  7., 10., 12., 11., 13.,\n",
       "        9.,  8., 10.,  8.,  9., 14.,  9., 10.,  8., 10., 11., 12., 14.,\n",
       "        7.,  6.,  7.,  8., 12.,  9., 12.,  6., 11.,  9., 11., 10., 13.,\n",
       "       12.,  9., 10.,  7., 12.,  9.,  8., 16.,  8.,  5.,  9.,  6., 11.,\n",
       "       11., 14.,  8., 12.,  4., 13., 11.,  8., 10., 10.,  9.,  9., 11.,\n",
       "       11.,  7.,  6., 11.,  8., 11.,  8.,  6.,  9., 10., 11., 11., 12.,\n",
       "        9.,  6., 10., 17.,  8.,  8., 11.,  7., 10.,  7.,  9.,  6., 12.,\n",
       "       10.,  7., 11., 11.,  8., 13.,  3., 11.,  6.,  8.,  5.,  9., 14.,\n",
       "       11., 11.,  7.,  8., 10., 10., 15., 14., 12., 12.,  9., 15.,  8.,\n",
       "        8.,  8.,  5.,  8.,  9.,  8.,  7.,  4.,  7.,  7., 10., 10., 14.,\n",
       "        8., 10., 15.,  9.,  9., 13.,  9.,  9., 14., 16., 12.,  7.,  9.,\n",
       "       11.,  8., 15.,  7., 12.,  4.,  6.,  9.,  8.,  6., 11., 16., 10.,\n",
       "        9., 15., 12., 12., 10., 11.,  9., 10.,  6., 10., 13.,  9., 10.,\n",
       "       10.,  9.,  7., 11.,  7., 16.,  7., 11.,  9., 10.,  9.,  6.,  6.,\n",
       "       10.,  9.,  9.,  5.,  7., 15.,  5., 11., 15.,  8., 10.,  9., 14.,\n",
       "        7.,  8., 12.,  9., 10., 10., 14., 15., 11., 14., 14., 16., 10.,\n",
       "       15., 13., 10., 10.,  9.,  7., 15.,  8.,  5., 11., 10.,  9.,  7.,\n",
       "        8., 16.,  6.,  5.,  7., 11.,  5.,  9.,  6.,  7.,  9.,  9.,  8.,\n",
       "       18.,  9., 16.,  6., 17., 11., 14., 10., 15., 10.,  7., 12.,  6.,\n",
       "        7., 10., 10., 16., 11., 13., 15., 19., 10.,  8.,  8.,  8., 11.,\n",
       "       10.,  7., 20., 10.,  8.,  8.,  6., 10., 14., 13.,  7.,  7.,  8.,\n",
       "       12., 11.,  3., 11., 10., 11., 15.,  6., 10.,  5.,  7., 10., 13.,\n",
       "       10.,  6., 11., 10., 10.,  8.,  9.,  9.,  8., 10., 10.,  8., 10.,\n",
       "       11.,  8.,  9., 11., 11.,  9., 10.,  9.,  7., 10., 15., 11., 11.,\n",
       "        6.,  9.,  9.,  6., 17., 13., 10.,  8.,  7., 11.,  9.,  8.,  8.,\n",
       "        8.,  6., 10.,  6.,  7.,  8., 10., 12., 10., 12.,  8.,  9.,  6.,\n",
       "       12., 10.,  7.,  9.,  9., 10., 11., 10., 10.,  9.,  9.,  9.,  7.,\n",
       "       11., 16., 15.,  7., 10., 11., 11.,  4., 10., 10., 20., 12.,  7.,\n",
       "        8.,  9.,  7.,  9.,  6.,  6.,  9.,  8.,  8., 10., 10.,  6., 19.,\n",
       "       12.,  9., 12.,  8.,  9., 15.,  9., 10.,  9., 10., 12.,  4., 10.,\n",
       "        9.,  7., 12.,  9., 15., 12., 13.,  3., 12.,  7., 10.,  8.,  7.,\n",
       "        9.,  5., 10.,  8.,  9.,  9., 12., 12.,  5.,  7., 12.,  9., 14.,\n",
       "       11.,  8.,  8.,  8., 12., 15., 13., 13., 12., 10.,  9.,  5.,  8.,\n",
       "       13.,  6., 11., 10., 14.,  8., 13., 10.,  9.,  8., 13., 10.,  8.,\n",
       "        6., 11., 12.,  7., 10., 12.,  8., 10.,  8., 10., 14.,  8.,  9.,\n",
       "        6.,  9.,  6.,  7.,  8., 10., 10.,  7., 11.,  9., 11.,  9.,  5.,\n",
       "        4., 13., 10.,  8.,  9.,  9., 13., 13.,  8.,  9.,  9., 15.,  8.,\n",
       "        8., 11., 10.,  8.,  9.,  8., 13., 11., 11., 16.,  9.,  8.,  7.,\n",
       "       13.,  9., 12., 11., 10.,  7., 10., 11., 10., 12., 12.,  4.,  6.,\n",
       "       10., 11.,  9.,  8., 14.,  9., 15., 10.,  8., 11., 11., 11.,  8.,\n",
       "       10.,  8.,  8., 18.,  9.,  8., 17.,  9.,  4.,  7., 11.,  9.,  9.,\n",
       "        8.,  8., 10.,  6.,  9., 10., 10.,  9., 10., 10.,  8., 10.,  4.,\n",
       "       13., 10., 11., 21., 16.,  7., 10.,  6., 12., 10.,  8.,  8., 11.,\n",
       "       13.,  9., 11., 12., 10., 14.,  5.,  4., 17., 15.,  9., 11., 14.,\n",
       "       10., 10., 11., 11.,  7.,  8.,  7., 12.,  8., 11., 10., 10., 10.,\n",
       "       11., 19.,  8., 11., 10.,  8.,  7.,  8.,  7.,  7., 12.,  8.,  9.,\n",
       "       12., 15., 10., 19., 14., 16.,  9., 10.,  7.,  8.,  6.,  9., 10.,\n",
       "       11.,  7., 10.,  9.,  9.,  8., 10.,  7., 10.,  9., 12.,  4., 11.,\n",
       "        8., 12., 12.,  6.,  6., 17., 10.,  6., 12.,  9.,  8., 11., 10.,\n",
       "        6., 10., 10.,  8.,  7., 17.,  9., 13., 10.,  9., 11., 11.,  8.,\n",
       "        6.,  9.,  9., 10., 14.,  8.,  8.,  9.,  6., 10., 12.,  9.,  6.,\n",
       "        6., 10.,  8.,  7.,  8., 10., 17.,  9., 14.,  9.,  8., 20., 12.,\n",
       "       12.,  8.,  9., 11.,  9.,  9.,  8., 10.,  9.,  8., 10., 10., 13.,\n",
       "       14., 16.,  9.,  7.,  9., 21., 20., 10.,  9.,  6.,  9.,  7.,  9.,\n",
       "       10.,  4., 10.,  9.,  9.,  9.,  9.,  8., 10.,  9., 11.,  9.,  8.,\n",
       "        7.,  5.,  5.,  5., 12.,  6., 12., 10., 11., 11.,  7., 11.,  8.,\n",
       "        9., 11.,  6.,  6., 11.,  8., 10., 11.,  9.,  8.,  8., 13., 11.,\n",
       "        8., 11.,  9.,  8.,  8., 13., 10., 11., 10.,  7.,  6.,  7.,  8.,\n",
       "        8., 13.,  7., 10., 14.,  7., 12.,  9., 11.,  9.,  9.,  8., 17.,\n",
       "        7., 10., 18., 11., 11.,  7.,  9.,  7., 11., 10., 10.,  7., 23.,\n",
       "       13.,  7.,  9.,  8.,  9.,  9.,  8., 12., 13., 12., 10.,  9., 10.,\n",
       "       13.,  9.,  7.,  5., 11., 11., 11.,  5., 13., 17., 13., 11.,  7.,\n",
       "        9.,  7., 10.,  9.,  9., 15.,  5., 25., 10.,  8., 11., 11., 15.,\n",
       "       10., 13.,  8., 10., 12.,  6., 10., 12.,  6., 13.,  7., 10., 10.,\n",
       "        9., 10., 10.,  7.])"
      ]
     },
     "execution_count": 79,
     "metadata": {},
     "output_type": "execute_result"
    }
   ],
   "source": [
    "y_pred_test"
   ]
  },
  {
   "cell_type": "code",
   "execution_count": 80,
   "metadata": {},
   "outputs": [],
   "source": [
    "from sklearn.metrics import mean_absolute_error, mean_squared_error"
   ]
  },
  {
   "cell_type": "code",
   "execution_count": 83,
   "metadata": {},
   "outputs": [
    {
     "name": "stdout",
     "output_type": "stream",
     "text": [
      "the Root Mean Squared Error for Train data is  : 5.149573428256504e-15\n"
     ]
    }
   ],
   "source": [
    "#finding RMSE values\n",
    "from sklearn import metrics\n",
    "RMSE_train=np.sqrt(metrics.mean_squared_error(y_train,y_pred_train))\n",
    "print('the Root Mean Squared Error for Train data is  :',RMSE_train)"
   ]
  },
  {
   "cell_type": "code",
   "execution_count": 84,
   "metadata": {},
   "outputs": [
    {
     "name": "stdout",
     "output_type": "stream",
     "text": [
      "the Root Mean Squared Error for Test data is  : 4.7945144731869735e-15\n"
     ]
    }
   ],
   "source": [
    "from sklearn import metrics\n",
    "RMSE_test=np.sqrt(metrics.mean_squared_error(y_test,y_pred_test))\n",
    "print('the Root Mean Squared Error for Test data is  :',RMSE_test)"
   ]
  },
  {
   "cell_type": "code",
   "execution_count": 85,
   "metadata": {},
   "outputs": [
    {
     "name": "stdout",
     "output_type": "stream",
     "text": [
      "The R-square value for Train dataset is  : 1.0\n"
     ]
    }
   ],
   "source": [
    "from sklearn.metrics import r2_score\n",
    "r2_train=r2_score(y_train, y_pred_train)\n",
    "print('The R-square value for Train dataset is  :', r2_train)"
   ]
  },
  {
   "cell_type": "code",
   "execution_count": 86,
   "metadata": {},
   "outputs": [
    {
     "name": "stdout",
     "output_type": "stream",
     "text": [
      "The R-square value for Test dataset is  : 1.0\n"
     ]
    }
   ],
   "source": [
    "from sklearn.metrics import r2_score\n",
    "r2_test=r2_score(y_test, y_pred_test)\n",
    "print('The R-square value for Test dataset is  :', r2_test)"
   ]
  },
  {
   "cell_type": "markdown",
   "metadata": {},
   "source": [
    "### Decision Tree"
   ]
  },
  {
   "cell_type": "code",
   "execution_count": 88,
   "metadata": {},
   "outputs": [
    {
     "data": {
      "text/plain": [
       "DecisionTreeRegressor()"
      ]
     },
     "execution_count": 88,
     "metadata": {},
     "output_type": "execute_result"
    }
   ],
   "source": [
    "from sklearn.tree import DecisionTreeRegressor\n",
    "model1 = DecisionTreeRegressor(criterion='mse')\n",
    "model1.fit(X_train, y_train)"
   ]
  },
  {
   "cell_type": "code",
   "execution_count": 89,
   "metadata": {},
   "outputs": [],
   "source": [
    "y_train_pred_dt=model1.predict(X_train)\n",
    "y_test_pred_dt=model1.predict(X_test)"
   ]
  },
  {
   "cell_type": "code",
   "execution_count": 90,
   "metadata": {},
   "outputs": [],
   "source": [
    "from sklearn.tree import plot_tree"
   ]
  },
  {
   "cell_type": "code",
   "execution_count": 91,
   "metadata": {},
   "outputs": [
    {
     "data": {
      "image/png": "[encoded data removed]",
      "text/plain": [
       "<Figure size 1800x1440 with 1 Axes>"
      ]
     },
     "metadata": {
      "needs_background": "light"
     },
     "output_type": "display_data"
    }
   ],
   "source": [
    "fig = plt.figure(figsize=(25, 20))\n",
    "_ = plot_tree(model1, feature_names=X.columns, filled=True, rounded=True)"
   ]
  },
  {
   "cell_type": "code",
   "execution_count": 92,
   "metadata": {},
   "outputs": [
    {
     "data": {
      "text/plain": [
       "Text(0, 0.5, 'Predicted')"
      ]
     },
     "execution_count": 92,
     "metadata": {},
     "output_type": "execute_result"
    },
    {
     "data": {
      "image/png": "[encoded data removed]",
      "text/plain": [
       "<Figure size 432x288 with 1 Axes>"
      ]
     },
     "metadata": {
      "needs_background": "light"
     },
     "output_type": "display_data"
    }
   ],
   "source": [
    "sns.lineplot(x=y_test, y=y_test_pred_dt)\n",
    "plt.title('Decision Tree Model 1')\n",
    "plt.xlabel(' Actual')\n",
    "plt.ylabel('Predicted')"
   ]
  },
  {
   "cell_type": "code",
   "execution_count": 93,
   "metadata": {},
   "outputs": [
    {
     "name": "stdout",
     "output_type": "stream",
     "text": [
      "The RMSE Value of Train Dataset for Simple Decision Tree Model is  : 0.0\n"
     ]
    }
   ],
   "source": [
    "#finding RMSE values\n",
    "from sklearn import metrics\n",
    "RMSE_train_dt=np.sqrt(metrics.mean_squared_error(y_train,y_train_pred_dt))\n",
    "print('The RMSE Value of Train Dataset for Simple Decision Tree Model is  :',RMSE_train_dt)"
   ]
  },
  {
   "cell_type": "code",
   "execution_count": 94,
   "metadata": {},
   "outputs": [
    {
     "name": "stdout",
     "output_type": "stream",
     "text": [
      "The RMSE Value of Test Dataset for Simple Decision Tree Model is  : 0.03458572319330373\n"
     ]
    }
   ],
   "source": [
    "#finding RMSE values\n",
    "from sklearn import metrics\n",
    "RMSE_test_dt=np.sqrt(metrics.mean_squared_error(y_test,y_test_pred_dt))\n",
    "print('The RMSE Value of Test Dataset for Simple Decision Tree Model is  :',RMSE_test_dt)"
   ]
  },
  {
   "cell_type": "code",
   "execution_count": 95,
   "metadata": {},
   "outputs": [
    {
     "name": "stdout",
     "output_type": "stream",
     "text": [
      "The R-square value for Train Data of simple Decision Tree Model is : 1.0\n"
     ]
    }
   ],
   "source": [
    "from sklearn.metrics import r2_score\n",
    "r2_dt_train=r2_score(y_train, y_train_pred_dt)\n",
    "print('The R-square value for Train Data of simple Decision Tree Model is :', r2_dt_train)"
   ]
  },
  {
   "cell_type": "code",
   "execution_count": 96,
   "metadata": {
    "scrolled": true
   },
   "outputs": [
    {
     "name": "stdout",
     "output_type": "stream",
     "text": [
      "The R-square value for Test Data of simple Decision Tree Model is : 0.999864455145354\n"
     ]
    }
   ],
   "source": [
    "from sklearn.metrics import r2_score\n",
    "r2_dt_test=r2_score(y_test, y_test_pred_dt)\n",
    "print('The R-square value for Test Data of simple Decision Tree Model is :', r2_dt_test)"
   ]
  },
  {
   "cell_type": "code",
   "execution_count": 98,
   "metadata": {},
   "outputs": [],
   "source": [
    "def Adjusted_r2(r_square,N): \n",
    "    return(1-(((1-r_square)*(N-1))/(N-6)))"
   ]
  },
  {
   "cell_type": "code",
   "execution_count": 99,
   "metadata": {},
   "outputs": [
    {
     "name": "stdout",
     "output_type": "stream",
     "text": [
      "The Adjusted R-square of Decision Tree first model Train Dataset is : 1.0\n",
      "The Adjusted R-square of Decision Tree first model Test Dataset is : 0.9998636386100851\n"
     ]
    }
   ],
   "source": [
    "adj_r2_train=Adjusted_r2(r2_dt_train,len(X_train))\n",
    "print('The Adjusted R-square of Decision Tree first model Train Dataset is :', adj_r2_train)\n",
    "adj_r2_test=Adjusted_r2(r2_dt_test,len(X_test))\n",
    "print('The Adjusted R-square of Decision Tree first model Test Dataset is :', adj_r2_test)"
   ]
  },
  {
   "cell_type": "code",
   "execution_count": 101,
   "metadata": {},
   "outputs": [],
   "source": [
    "output = pd.DataFrame({'Id': df_test.index,'Rings': predictions})\n",
    "output.to_csv('ABALONE AGE PREDICTION.csv', index=False, header=False)"
   ]
  },
  {
   "cell_type": "code",
   "execution_count": null,
   "metadata": {},
   "outputs": [],
   "source": []
  }
 ],
 "metadata": {
  "kernelspec": {
   "display_name": "Python 3",
   "language": "python",
   "name": "python3"
  },
  "language_info": {
   "codemirror_mode": {
    "name": "ipython",
    "version": 3
   },
   "file_extension": ".py",
   "mimetype": "text/x-python",
   "name": "python",
   "nbconvert_exporter": "python",
   "pygments_lexer": "ipython3",
   "version": "3.8.3"
  }
 },
 "nbformat": 4,
 "nbformat_minor": 4
}
